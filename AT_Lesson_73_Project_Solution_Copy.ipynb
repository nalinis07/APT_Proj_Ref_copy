{
  "nbformat": 4,
  "nbformat_minor": 0,
  "metadata": {
    "colab": {
      "provenance": [],
      "include_colab_link": true
    },
    "kernelspec": {
      "name": "python3",
      "display_name": "Python 3"
    }
  },
  "cells": [
    {
      "cell_type": "markdown",
      "metadata": {
        "id": "view-in-github",
        "colab_type": "text"
      },
      "source": [
        "<a href=\"https://colab.research.google.com/github/nalinis07/APT_Proj_Ref_copy/blob/MASTER/AT_Lesson_73_Project_Solution_Copy.ipynb\" target=\"_parent\"><img src=\"https://colab.research.google.com/assets/colab-badge.svg\" alt=\"Open In Colab\"/></a>"
      ]
    },
    {
      "cell_type": "markdown",
      "metadata": {
        "id": "LmGIEJypJecD"
      },
      "source": [
        "### Instructions"
      ]
    },
    {
      "cell_type": "markdown",
      "metadata": {
        "id": "ucTA11TxJfTy"
      },
      "source": [
        "---"
      ]
    },
    {
      "cell_type": "markdown",
      "metadata": {
        "id": "LW8H-_yDJf-j"
      },
      "source": [
        "#### Goal of the Project\n",
        "\n",
        "This project is designed for you to practice and solve the activities that are based on the concepts covered in the following lessons:\n",
        "\n",
        " 1. Logistic Regression - Univariate Classification I\n",
        "\n",
        " 2. Logistic Regression - Univariate Classification II\n",
        ""
      ]
    },
    {
      "cell_type": "markdown",
      "metadata": {
        "id": "GNiMg-W5KlL6"
      },
      "source": [
        "---"
      ]
    },
    {
      "cell_type": "markdown",
      "metadata": {
        "id": "maAiarpbKl1h"
      },
      "source": [
        "### Problem Statement\n",
        "\n",
        "A researcher is interested in assessing how different factors such as GRE (Graduate Record Exam scores), GPA (grade point average), and prestige of the undergraduate institution (RANK) affect admission into graduate school.\n",
        "\n",
        "Build a Logistic Regression model to help him analyse the impact of GRE scores on admissions."
      ]
    },
    {
      "cell_type": "markdown",
      "metadata": {
        "id": "bX0oDkQwVaxY"
      },
      "source": [
        "---"
      ]
    },
    {
      "cell_type": "markdown",
      "metadata": {
        "id": "8Nwq440AVba9"
      },
      "source": [
        "### List of Activities\n",
        "\n",
        "**Activity 1:** Analysing the Dataset\n",
        "\n",
        "  \n",
        "**Activity 2:**  Normalise the Dataset\n",
        "\n",
        "**Activity 3:**  Calculate the Sigmoid Output\n",
        "\n",
        "**Activity 4:** Model Prediction\n",
        "\n",
        "**Activity 5:** Model Evaluation"
      ]
    },
    {
      "cell_type": "markdown",
      "metadata": {
        "id": "VMstt1j0Vhjp"
      },
      "source": [
        "---"
      ]
    },
    {
      "cell_type": "markdown",
      "metadata": {
        "id": "a25NHqeGViL3"
      },
      "source": [
        "#### Activity 1:  Analysing the Dataset\n",
        "\n",
        "\n",
        "\n",
        "You are given with the UCLA inspired dataset on college admissions. This dataset consists of the following columns:\n",
        "\n",
        "  **Source:** https://www.kaggle.com/mohansacharya/graduate-admissions\n",
        "  \n",
        "|Field|Description|\n",
        "|---:|:---|\n",
        "|admit|Binary; states whether the student is admitted or not|\n",
        "|gre|GRE score of the student|\n",
        "|gpa|GPA of the student on a $4$ point scale|\n",
        "|rank|Rank of student's postgraduate institution|\n",
        "\n",
        "Print the first five rows of the dataset.\n",
        "\n",
        " **Dataset Link:** https://curriculum.whitehatjr.com/APT+Asset/APT+projects+datasets/binary.csv\n"
      ]
    },
    {
      "cell_type": "code",
      "metadata": {
        "id": "sNtMW1CCLuur"
      },
      "source": [
        "# Import the required modules and load the dataset\n",
        "\n",
        "import numpy as np\n",
        "import pandas as pd\n",
        "import matplotlib.pyplot as plt\n",
        "import seaborn as sns\n",
        "\n",
        "csv_file = 'https://curriculum.whitehatjr.com/APT+Asset/APT+projects+datasets/binary.csv'\n",
        "df = pd.read_csv(csv_file)"
      ],
      "execution_count": null,
      "outputs": []
    },
    {
      "cell_type": "code",
      "metadata": {
        "colab": {
          "base_uri": "https://localhost:8080/",
          "height": 204
        },
        "id": "Q5eTPPUbN2E5",
        "outputId": "30b059c4-d09f-477b-9252-12b16209c766"
      },
      "source": [
        "# Print the first five rows of Dataframe.\n",
        "df.head()"
      ],
      "execution_count": null,
      "outputs": [
        {
          "output_type": "execute_result",
          "data": {
            "text/html": [
              "<div>\n",
              "<style scoped>\n",
              "    .dataframe tbody tr th:only-of-type {\n",
              "        vertical-align: middle;\n",
              "    }\n",
              "\n",
              "    .dataframe tbody tr th {\n",
              "        vertical-align: top;\n",
              "    }\n",
              "\n",
              "    .dataframe thead th {\n",
              "        text-align: right;\n",
              "    }\n",
              "</style>\n",
              "<table border=\"1\" class=\"dataframe\">\n",
              "  <thead>\n",
              "    <tr style=\"text-align: right;\">\n",
              "      <th></th>\n",
              "      <th>Unnamed: 0</th>\n",
              "      <th>admit</th>\n",
              "      <th>gre</th>\n",
              "      <th>gpa</th>\n",
              "      <th>rank</th>\n",
              "    </tr>\n",
              "  </thead>\n",
              "  <tbody>\n",
              "    <tr>\n",
              "      <th>0</th>\n",
              "      <td>0</td>\n",
              "      <td>0</td>\n",
              "      <td>380</td>\n",
              "      <td>3.61</td>\n",
              "      <td>3</td>\n",
              "    </tr>\n",
              "    <tr>\n",
              "      <th>1</th>\n",
              "      <td>1</td>\n",
              "      <td>1</td>\n",
              "      <td>660</td>\n",
              "      <td>3.67</td>\n",
              "      <td>3</td>\n",
              "    </tr>\n",
              "    <tr>\n",
              "      <th>2</th>\n",
              "      <td>2</td>\n",
              "      <td>1</td>\n",
              "      <td>800</td>\n",
              "      <td>4.00</td>\n",
              "      <td>1</td>\n",
              "    </tr>\n",
              "    <tr>\n",
              "      <th>3</th>\n",
              "      <td>3</td>\n",
              "      <td>1</td>\n",
              "      <td>640</td>\n",
              "      <td>3.19</td>\n",
              "      <td>4</td>\n",
              "    </tr>\n",
              "    <tr>\n",
              "      <th>4</th>\n",
              "      <td>4</td>\n",
              "      <td>0</td>\n",
              "      <td>520</td>\n",
              "      <td>2.93</td>\n",
              "      <td>4</td>\n",
              "    </tr>\n",
              "  </tbody>\n",
              "</table>\n",
              "</div>"
            ],
            "text/plain": [
              "   Unnamed: 0  admit  gre   gpa  rank\n",
              "0           0      0  380  3.61     3\n",
              "1           1      1  660  3.67     3\n",
              "2           2      1  800  4.00     1\n",
              "3           3      1  640  3.19     4\n",
              "4           4      0  520  2.93     4"
            ]
          },
          "metadata": {
            "tags": []
          },
          "execution_count": 2
        }
      ]
    },
    {
      "cell_type": "markdown",
      "metadata": {
        "id": "fnbpZifUf8YJ"
      },
      "source": [
        "---"
      ]
    },
    {
      "cell_type": "markdown",
      "metadata": {
        "id": "SEfsfeZ8YVY-"
      },
      "source": [
        "#### Activity 2:  Normalise the Dataset\n",
        "\n",
        " Perform the following tasks:\n",
        "\n",
        " - Get the descriptive statistics for the `gre` column.\n",
        "\n",
        " - Normalise the `gre` column values by calculating their $Z$-scores (or standard scaler).\n",
        "\n"
      ]
    },
    {
      "cell_type": "code",
      "metadata": {
        "colab": {
          "base_uri": "https://localhost:8080/",
          "height": 555
        },
        "id": "FGWtos59OzFq",
        "outputId": "b9c19588-4398-4c01-93b5-2ded5f138908"
      },
      "source": [
        "# Get the descriptive statistics for the 'gre' column.\n",
        "print(f\"GRE Descriptive Statistics:\\n{df['gre'].describe()}\\n\")\n",
        " # Plot a histogram to show the distribution of values for 'gre' column\n",
        "plt.figure(figsize = (12, 4), dpi = 96)\n",
        "plt.title(\"Histogram for GRE Values\")\n",
        "plt.hist(df['gre'], bins = 'sturges', edgecolor = 'black')\n",
        "plt.show()"
      ],
      "execution_count": null,
      "outputs": [
        {
          "output_type": "stream",
          "text": [
            "GRE Descriptive Statistics:\n",
            "count    400.000000\n",
            "mean     587.700000\n",
            "std      115.516536\n",
            "min      220.000000\n",
            "25%      520.000000\n",
            "50%      580.000000\n",
            "75%      660.000000\n",
            "max      800.000000\n",
            "Name: gre, dtype: float64\n",
            "\n"
          ],
          "name": "stdout"
        },
        {
          "output_type": "display_data",
          "data": {
            "image/png": "[encoded data removed]",
            "text/plain": [
              "<Figure size 1152x384 with 1 Axes>"
            ]
          },
          "metadata": {
            "tags": [],
            "needs_background": "light"
          }
        }
      ]
    },
    {
      "cell_type": "code",
      "metadata": {
        "colab": {
          "base_uri": "https://localhost:8080/",
          "height": 555
        },
        "id": "CirAHf7wPDjH",
        "outputId": "5e711b05-982a-465e-e2f4-7d7ca53b4232"
      },
      "source": [
        "# Normalise the 'gre' column values using the standard scaler method.\n",
        "def standard_scaler(series):\n",
        "  new_series = (series - series.mean()) / series.std()\n",
        "  return new_series\n",
        "\n",
        "# Get the descriptive statistics for the normalised 'gre' column.\n",
        "gre_scaled = standard_scaler(df['gre'])\n",
        "print(f\"Descriptive statistics for the normalised gre scores:\\n{gre_scaled.describe()}\\n\")\n",
        "\n",
        "# Plot a histogram to show the distribution of values for normalised 'gre' column\n",
        "plt.figure(figsize = (12, 4), dpi = 96)\n",
        "plt.title(\"Histogram for the Normalised GRE Values\")\n",
        "plt.hist(gre_scaled, bins = 'sturges', edgecolor = 'black')\n",
        "plt.show()"
      ],
      "execution_count": null,
      "outputs": [
        {
          "output_type": "stream",
          "text": [
            "Descriptive statistics for the normalised gre scores:\n",
            "count    4.000000e+02\n",
            "mean    -3.927761e-16\n",
            "std      1.000000e+00\n",
            "min     -3.183094e+00\n",
            "25%     -5.860633e-01\n",
            "50%     -6.665712e-02\n",
            "75%      6.258844e-01\n",
            "max      1.837832e+00\n",
            "Name: gre, dtype: float64\n",
            "\n"
          ],
          "name": "stdout"
        },
        {
          "output_type": "display_data",
          "data": {
            "image/png": "[encoded data removed]",
            "text/plain": [
              "<Figure size 1152x384 with 1 Axes>"
            ]
          },
          "metadata": {
            "tags": [],
            "needs_background": "light"
          }
        }
      ]
    },
    {
      "cell_type": "markdown",
      "metadata": {
        "id": "l7sJSsxYf-NH"
      },
      "source": [
        "---"
      ]
    },
    {
      "cell_type": "markdown",
      "metadata": {
        "id": "SxbDqn6baRkL"
      },
      "source": [
        "#### Activity 3:  Calculate the Sigmoid Output\n",
        "\n",
        "1. Create a sigmoid function.\n",
        "\n",
        "2.  Calculate the sigmoid output for the scaled (or Normalised) GRE scores."
      ]
    },
    {
      "cell_type": "code",
      "metadata": {
        "id": "XXlywmuQPqbg"
      },
      "source": [
        "# Create a sigmoid() function using the above formula.\n",
        "def sigmoid(x):\n",
        "  return pd.Series(1 / (1 + np.exp(-x)))"
      ],
      "execution_count": null,
      "outputs": []
    },
    {
      "cell_type": "code",
      "metadata": {
        "colab": {
          "base_uri": "https://localhost:8080/"
        },
        "id": "BCWUAjGZPXkh",
        "outputId": "80b75f16-d3c0-4f84-ed55-b4d17b2fed27"
      },
      "source": [
        "# Calculate the sigmoid output for the scaled (or normalised) GRE scores.\n",
        "gre_scaled_sigmoid_output = sigmoid(gre_scaled)\n",
        "\n",
        "# Get the descriptive statistics for the sigmoid output of normalised 'gre'.\n",
        "print(f\"Descriptive stats for sigmoid output of scaled GRE scores:\\n{gre_scaled_sigmoid_output.describe()}\")"
      ],
      "execution_count": null,
      "outputs": [
        {
          "output_type": "stream",
          "text": [
            "Descriptive stats for sigmoid output of scaled GRE scores:\n",
            "count    400.000000\n",
            "mean       0.501370\n",
            "std        0.210643\n",
            "min        0.039807\n",
            "25%        0.357539\n",
            "50%        0.483342\n",
            "75%        0.651556\n",
            "max        0.862692\n",
            "Name: gre, dtype: float64\n"
          ],
          "name": "stdout"
        }
      ]
    },
    {
      "cell_type": "markdown",
      "metadata": {
        "id": "XUMKKeK6bcRC"
      },
      "source": [
        "---"
      ]
    },
    {
      "cell_type": "markdown",
      "metadata": {
        "id": "HPSVS9_abZD1"
      },
      "source": [
        "#### Activity 4:  Model Prediction\n",
        "\n",
        "Consider the threshold probability value of 0.5.\n",
        "\n",
        "- Create a function that classifies the sigmoid output for the scaled  GRE scores into 0s and 1s using the threshold value of 0.5\n"
      ]
    },
    {
      "cell_type": "code",
      "metadata": {
        "id": "mcKU9OkwQnfH"
      },
      "source": [
        "# Create a function 'predict()' that takes the sigmoid output and the threshold\n",
        "# and returns a Pandas series containing the predicted values (0s and 1s) as the output.\n",
        "\n",
        "def predict(sigmoid_output, threshold):\n",
        "  y_pred = [1 if output >= threshold else 0 for output in sigmoid_output]\n",
        "  return pd.Series(y_pred)"
      ],
      "execution_count": null,
      "outputs": []
    },
    {
      "cell_type": "code",
      "metadata": {
        "colab": {
          "base_uri": "https://localhost:8080/"
        },
        "id": "2ntZvNouZ4gr",
        "outputId": "cc926dfc-a60c-45fc-e35a-906045f9d545"
      },
      "source": [
        "# Use the 'predict()' function to classify the 'sigmoid()' function outputs as 0 and 1.\n",
        "# Consider threshold value of 0.5.\n",
        "threshold = 0.5\n",
        "y_pred = predict(gre_scaled_sigmoid_output, threshold)\n",
        "y_pred"
      ],
      "execution_count": null,
      "outputs": [
        {
          "output_type": "execute_result",
          "data": {
            "text/plain": [
              "0      0\n",
              "1      1\n",
              "2      1\n",
              "3      1\n",
              "4      0\n",
              "      ..\n",
              "395    1\n",
              "396    0\n",
              "397    0\n",
              "398    1\n",
              "399    1\n",
              "Length: 400, dtype: int64"
            ]
          },
          "metadata": {
            "tags": []
          },
          "execution_count": 8
        }
      ]
    },
    {
      "cell_type": "markdown",
      "metadata": {
        "id": "zFWUdZ4YgAO5"
      },
      "source": [
        "---"
      ]
    },
    {
      "cell_type": "markdown",
      "metadata": {
        "id": "hZFGuMqCfjp-"
      },
      "source": [
        "#### Activity 5:  Model Evaluation\n",
        "\n",
        "Evaluate the model by calculating the number of false positives and false negatives using a confusion matrix. Also print the classification report for the predicted values."
      ]
    },
    {
      "cell_type": "code",
      "metadata": {
        "colab": {
          "base_uri": "https://localhost:8080/"
        },
        "id": "6py8MXgiRAwn",
        "outputId": "7d6988f5-cba3-40af-c858-77aa5eda6fc4"
      },
      "source": [
        "# Create a confusion matrix for the predicted values.\n",
        "from sklearn.metrics import confusion_matrix\n",
        "\n",
        "print(confusion_matrix(df['admit'], y_pred))"
      ],
      "execution_count": null,
      "outputs": [
        {
          "output_type": "stream",
          "text": [
            "[[154 119]\n",
            " [ 49  78]]\n"
          ],
          "name": "stdout"
        }
      ]
    },
    {
      "cell_type": "code",
      "metadata": {
        "colab": {
          "base_uri": "https://localhost:8080/"
        },
        "id": "6Br2hK1wRMtv",
        "outputId": "3a093845-526b-4107-a229-3a3b50032b1c"
      },
      "source": [
        "# Print the classification report for the predicted values.\n",
        "from sklearn.metrics import classification_report\n",
        "\n",
        "print(classification_report(df['admit'], y_pred))"
      ],
      "execution_count": null,
      "outputs": [
        {
          "output_type": "stream",
          "text": [
            "              precision    recall  f1-score   support\n",
            "\n",
            "           0       0.76      0.56      0.65       273\n",
            "           1       0.40      0.61      0.48       127\n",
            "\n",
            "    accuracy                           0.58       400\n",
            "   macro avg       0.58      0.59      0.56       400\n",
            "weighted avg       0.64      0.58      0.59       400\n",
            "\n"
          ],
          "name": "stdout"
        }
      ]
    },
    {
      "cell_type": "markdown",
      "metadata": {
        "id": "N6NDX4jDfvBw"
      },
      "source": [
        "----"
      ]
    }
  ]
}