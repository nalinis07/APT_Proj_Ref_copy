{
  "nbformat": 4,
  "nbformat_minor": 0,
  "metadata": {
    "colab": {
      "provenance": [],
      "include_colab_link": true
    },
    "kernelspec": {
      "name": "python3",
      "display_name": "Python 3"
    }
  },
  "cells": [
    {
      "cell_type": "markdown",
      "metadata": {
        "id": "view-in-github",
        "colab_type": "text"
      },
      "source": [
        "<a href=\"https://colab.research.google.com/github/nalinis07/APT_Proj_Ref_copy/blob/MASTER/AT_Lesson_75_Project_Solution_Copy.ipynb\" target=\"_parent\"><img src=\"https://colab.research.google.com/assets/colab-badge.svg\" alt=\"Open In Colab\"/></a>"
      ]
    },
    {
      "cell_type": "markdown",
      "metadata": {
        "id": "EwmQuN5YlTtj"
      },
      "source": [
        "### Instructions"
      ]
    },
    {
      "cell_type": "markdown",
      "metadata": {
        "id": "jIS--196AJ13"
      },
      "source": [
        "---"
      ]
    },
    {
      "cell_type": "markdown",
      "metadata": {
        "id": "X4Lp80FmAKTu"
      },
      "source": [
        "#### Goal of the Project\n",
        "\n",
        "This project is designed for you to practice and solve the activities that are based on the concepts covered in the Logistic Regression - Likelihood Function lesson.\n",
        ""
      ]
    },
    {
      "cell_type": "markdown",
      "metadata": {
        "id": "60SINziWBUDe"
      },
      "source": [
        "---"
      ]
    },
    {
      "cell_type": "markdown",
      "metadata": {
        "id": "CC_pRjdDBUqu"
      },
      "source": [
        "### List of Activities\n",
        "\n",
        "**Activity 1:** Plot a Graph with $y = \\{\\log_{10} x, \\log_{10} 2x, \\log_{10} 3x, \\log_{10} 5x, \\log_{10} 10x \\}$\n",
        "\n",
        "  \n",
        "**Activity 2:**  Plot a Graph with $y=\\{\\log_{1.1} x,\\log_{2} x, \\log_{3} x,\\log_{5} x,\\log_{10} x\\}$\n",
        "\n",
        "**Activity 3:**   Plot a Graph with $y=\\{\\log_{10} x,x,x^2\\}$\n",
        "\n",
        "\n",
        "**Activity 4:** Plot a Graph with $y=\\{\\log_e x,\\log_e (x+4),\\log_e x+4\\}$\n",
        "\n",
        "**Activity 5:** Plot a Graph with $y=\\{\\log_e x,(\\log_e (x))^2,\\log_e (x^2)\\}$\n",
        "\n"
      ]
    },
    {
      "cell_type": "markdown",
      "metadata": {
        "id": "XcgzfkjOBX_G"
      },
      "source": [
        "---"
      ]
    },
    {
      "cell_type": "markdown",
      "metadata": {
        "id": "fHm7YogUEfpa"
      },
      "source": [
        "\n",
        "\n",
        "\n",
        "#### Activity 1:  Plot a Graph with $y = \\{\\log_{10} x, \\log_{10} 2x, \\log_{10} 3x, \\log_{10} 5x, \\log_{10} 10x \\}$\n",
        "\n",
        "\n",
        "1. Take list `x` and store number 1 to 99.\n",
        "\n",
        "2. Calculate corresponding values for $y = \\{\\log_{10} x, \\log_{10} 2x, \\log_{10} 3x, \\log_{10} 5x, \\log_{10} 10x \\}$\n",
        "and store them in variables `y1`, `y2`,`y3`, `y4`, and `y5` respectively.\n",
        "\n",
        "3. Plot the graph and make your observations."
      ]
    },
    {
      "cell_type": "code",
      "metadata": {
        "id": "NVoBogqxFs3h"
      },
      "source": [
        "# Import required libraries.\n",
        "import matplotlib.pyplot as plt\n",
        "import numpy as np\n",
        "import math\n",
        "\n",
        "# Take input for x-axis.\n",
        "x=[]\n",
        "for i in range(1,100):\n",
        "  x.append(i)\n",
        "\n",
        "# Evaluate log(x) with base 10 for corresponding values of x.\n",
        "y1=[]\n",
        "for i in range(len(x)):\n",
        "  y1.append(math.log(x[i],10))\n",
        "\n",
        "# Evaluate log(2x) with base 10 for corresponding values of x.\n",
        "y2=[]\n",
        "for i in range(len(x)):\n",
        "  y2.append(math.log(2*x[i],10))\n",
        "\n",
        "# Evaluate log(3x) with base 10 for corresponding values of x.\n",
        "y3=[]\n",
        "for i in range(len(x)):\n",
        "  y3.append(math.log(3*x[i],10))\n",
        "\n",
        "# Evaluate log(5x) with base 10 for corresponding values of x.\n",
        "y4=[]\n",
        "for i in range(len(x)):\n",
        "  y4.append(math.log(5*x[i],10))\n",
        "\n",
        "# Evaluate log(10x) with base 10 for corresponding values of x.\n",
        "y5=[]\n",
        "for i in range(len(x)):\n",
        "  y5.append(math.log(10*x[i],10))"
      ],
      "execution_count": null,
      "outputs": []
    },
    {
      "cell_type": "markdown",
      "metadata": {
        "id": "cJidJdUmWfjc"
      },
      "source": [
        "For all the numbers between $1$ and $99$, a Python list is created labeled as `x`, and then another Python list is created that stores $\\log$ on the base $10$ of all the numbers between $1$ and $99$. This list is stored in the `y1` variable.\n",
        "\n",
        "Similarly, `y2, y3, y4, y5` lists store log on the base 10 of all the values between 1 and 99 such that `y2`,`y3`,`y4`, and`y5` stores $\\log 2x$, $\\log 3x$,$\\log 5x$, and $\\log 10x$ respectively."
      ]
    },
    {
      "cell_type": "code",
      "metadata": {
        "colab": {
          "base_uri": "https://localhost:8080/",
          "height": 295
        },
        "id": "X-7qau5ZIyfU",
        "outputId": "87d748ca-e5ad-4e28-a890-0610fd7712b4"
      },
      "source": [
        "\n",
        "# plot the graphs\n",
        "plt.plot(x, y1, label = \"log x\")\n",
        "plt.plot(x, y2, label = \"log 2x\")\n",
        "plt.plot(x, y3, label = \"log 3x\")\n",
        "plt.plot(x, y4, label = \"log 5x\")\n",
        "plt.plot(x, y5, label = \"log 10x\")\n",
        "\n",
        "# naming the x axis\n",
        "plt.xlabel('x - axis')\n",
        "# naming the y axis\n",
        "plt.ylabel('y - axis')\n",
        "# adding title to the graph\n",
        "plt.title('Graph')\n",
        "\n",
        "# show a legend on the plot\n",
        "plt.legend()\n",
        "\n",
        "# function to show the plot\n",
        "plt.show()"
      ],
      "execution_count": null,
      "outputs": [
        {
          "output_type": "display_data",
          "data": {
            "image/png": "[encoded data removed]",
            "text/plain": [
              "<Figure size 432x288 with 1 Axes>"
            ]
          },
          "metadata": {
            "tags": [],
            "needs_background": "light"
          }
        }
      ]
    },
    {
      "cell_type": "markdown",
      "metadata": {
        "id": "8BkUYzad7f9c"
      },
      "source": [
        "**Q:** What are your observations?\n",
        "\n",
        "**A:** Logarithmic function increases as we multiply `x` with a greater scalar."
      ]
    },
    {
      "cell_type": "markdown",
      "metadata": {
        "id": "c0ODK-Pkd6pk"
      },
      "source": [
        "---"
      ]
    },
    {
      "cell_type": "markdown",
      "metadata": {
        "id": "avCAUvAid15-"
      },
      "source": [
        "#### Activity 2: Plot a graph with $y=\\{\\log_{1.1} x,\\log_2 x,\\log_3 x,\\log_5 x,\\log_{10} x\\}$\n",
        "\n",
        "Calculate corresponding values for $y=\\{\\log_{1.1} x,\\log_2 x,\\log_3 x,\\log_5 x,\\log_{10} x\\}$\n",
        "and store them in variables `y1`, `y2`,`y3`, `y4`, and `y5` respectively.\n",
        "\n"
      ]
    },
    {
      "cell_type": "code",
      "metadata": {
        "id": "-ZuHVGiGd7h7"
      },
      "source": [
        "# Evaluate log(x) with base 1.1 for corresponding values of x.\n",
        "y1=[]\n",
        "for i in range(len(x)):\n",
        "  y1.append(math.log(x[i],1.1))\n",
        "\n",
        "# Evaluate log(x) with base 2 for corresponding values of x.\n",
        "y2=[]\n",
        "for i in range(len(x)):\n",
        "  y2.append(math.log(x[i],2))\n",
        "\n",
        "# Evaluate log(x) with base 3 for corresponding values of x.\n",
        "y3=[]\n",
        "for i in range(len(x)):\n",
        "  y3.append(math.log(x[i],3))\n",
        "\n",
        "# Evaluate log(x) with base 5 for corresponding values of x.\n",
        "y4=[]\n",
        "for i in range(len(x)):\n",
        "  y4.append(math.log(x[i],5))\n",
        "\n",
        "# Evaluate log(x) with base 10 for corresponding values of x.\n",
        "y5=[]\n",
        "for i in range(len(x)):\n",
        "  y5.append(math.log(x[i],10))"
      ],
      "execution_count": null,
      "outputs": []
    },
    {
      "cell_type": "markdown",
      "metadata": {
        "id": "B6SNwTa79DOm"
      },
      "source": [
        "`y1`,`y2`,`y3`,`y4`, and `y5` list store  $\\log_{1.1} x,\\log_2 x,\\log_3 x,\\log_5 x$, and $\\log_{10} x$ respectively in the above cell.\n",
        "\n",
        "\n",
        ""
      ]
    },
    {
      "cell_type": "code",
      "metadata": {
        "colab": {
          "base_uri": "https://localhost:8080/",
          "height": 295
        },
        "id": "bQGQ63rTeSXv",
        "outputId": "81120209-b8e6-4ba2-e2e0-b161dc1767f7"
      },
      "source": [
        "\n",
        "# plot the graphs\n",
        "\n",
        "plt.plot(x, y1, label = \"log x base 1.1\")\n",
        "plt.plot(x, y2, label = \"log x base 2\")\n",
        "plt.plot(x, y3, label = \"log x base 3\")\n",
        "plt.plot(x, y4, label = \"log x base 5\")\n",
        "plt.plot(x, y5, label = \"log x base 10\")\n",
        "\n",
        "# naming the x axis\n",
        "plt.xlabel('x - axis')\n",
        "# naming the y axis\n",
        "plt.ylabel('y - axis')\n",
        "# adding title to the graph\n",
        "plt.title('Graph')\n",
        "\n",
        "# show a legend on the plot\n",
        "plt.legend()\n",
        "\n",
        "# function to show the plot\n",
        "plt.show()"
      ],
      "execution_count": null,
      "outputs": [
        {
          "output_type": "display_data",
          "data": {
            "image/png": "[encoded data removed]",
            "text/plain": [
              "<Figure size 432x288 with 1 Axes>"
            ]
          },
          "metadata": {
            "tags": [],
            "needs_background": "light"
          }
        }
      ]
    },
    {
      "cell_type": "markdown",
      "metadata": {
        "id": "hnNLHc6N-i2W"
      },
      "source": [
        "**Q:** What are your observations?\n",
        "\n",
        "**A:** Logarithmic function decreases as we increase the base.\n",
        "\n",
        "**Q:** Why do you think we used $1.1$ in the question rather than $1$ for comparison?\n",
        "\n",
        "**A:** We take base $1.1$ for the first case as we cannot have base $1$ as the float division by zero condition may occur."
      ]
    },
    {
      "cell_type": "markdown",
      "metadata": {
        "id": "le5luQAteeSL"
      },
      "source": [
        "---"
      ]
    },
    {
      "cell_type": "markdown",
      "metadata": {
        "id": "p9RFisbSefGz"
      },
      "source": [
        "#### Activity 3: Plot a graph with $y=\\{\\log_e x,x,x^2\\}$\n",
        "\n",
        "Calculate corresponding values for $y=\\{\\log_e x,x,x^2\\}$\n",
        "and store them in variables `y1`, `y2`, and `y3`respectively."
      ]
    },
    {
      "cell_type": "code",
      "metadata": {
        "id": "GVXlRX4Lem-d"
      },
      "source": [
        "# Evaluate log(x) for corresponding values of x.\n",
        "\n",
        "y1=[]\n",
        "for i in range(len(x)):\n",
        "  y1.append(np.log(x[i]))\n",
        "\n",
        "# Evaluate x for corresponding values of x.\n",
        "y2=[]\n",
        "for i in range(len(x)):\n",
        "  y2.append(x[i])\n",
        "\n",
        "# Evaluate x^x for corresponding values of x.\n",
        "y3=[]\n",
        "for i in range(len(x)):\n",
        "  y3.append(x[i]*x[i])\n",
        "\n"
      ],
      "execution_count": null,
      "outputs": []
    },
    {
      "cell_type": "markdown",
      "metadata": {
        "id": "asqYl3GN90rl"
      },
      "source": [
        "`y1`,`y2`, and `y3` list store  $\\log_e x,x$, and $x^2$ respectively in the above cell.\n",
        "\n",
        "\n",
        ""
      ]
    },
    {
      "cell_type": "code",
      "metadata": {
        "colab": {
          "base_uri": "https://localhost:8080/",
          "height": 295
        },
        "id": "eSaOavpJen6F",
        "outputId": "f8856bf3-f508-4979-8fae-d16269127b6b"
      },
      "source": [
        "\n",
        "\n",
        "# plot the graphs\n",
        "\n",
        "plt.plot(x, y1, label = \"log x\")\n",
        "plt.plot(x, y2, label = \"x\")\n",
        "plt.plot(x, y3, label = \"x^2\")\n",
        "\n",
        "\n",
        "# naming the x axis\n",
        "plt.xlabel('x - axis')\n",
        "# naming the y axis\n",
        "plt.ylabel('y - axis')\n",
        "# adding title to the graph\n",
        "plt.title('Graph')\n",
        "\n",
        "# show a legend on the plot\n",
        "plt.legend()\n",
        "\n",
        "# function to show the plot\n",
        "plt.show()"
      ],
      "execution_count": null,
      "outputs": [
        {
          "output_type": "display_data",
          "data": {
            "image/png": "[encoded data removed]",
            "text/plain": [
              "<Figure size 432x288 with 1 Axes>"
            ]
          },
          "metadata": {
            "tags": [],
            "needs_background": "light"
          }
        }
      ]
    },
    {
      "cell_type": "markdown",
      "metadata": {
        "id": "_-ht9ST1ABqU"
      },
      "source": [
        "**Q:** What are your observations?\n",
        "\n",
        "**A:** Exponential curve increases much faster than a logarithmic and linear curve."
      ]
    },
    {
      "cell_type": "markdown",
      "metadata": {
        "id": "jU43pcIav4L2"
      },
      "source": [
        "---"
      ]
    },
    {
      "cell_type": "markdown",
      "metadata": {
        "id": "7_qpdvmLv40-"
      },
      "source": [
        "#### Activity 4: Plot a graph with $y=\\{\\log_e x, \\log_e (x+4), \\log_e x+4\\}$\n",
        "\n",
        "Calculate corresponding values for $y=\\{\\log_e x, \\log_e (x+4), \\log_e x+4\\}$\n",
        "and store them in variables `y1`, `y2`, and `y3`respectively.\n"
      ]
    },
    {
      "cell_type": "code",
      "metadata": {
        "id": "xyK7KBkQwBQq"
      },
      "source": [
        "# Evaluate log(x) for corresponding values of x.\n",
        "\n",
        "y1=[]\n",
        "for i in range(len(x)):\n",
        "  y1.append(np.log(x[i]))\n",
        "\n",
        "# Evaluate log(x+4) for corresponding values of x.\n",
        "y2=[]\n",
        "for i in range(len(x)):\n",
        "  y2.append(np.log(x[i]+4))\n",
        "\n",
        "# Evaluate log(x)+4 for corresponding values of x.\n",
        "y3=[]\n",
        "for i in range(len(x)):\n",
        "  y3.append(np.log(x[i])+4)\n"
      ],
      "execution_count": null,
      "outputs": []
    },
    {
      "cell_type": "markdown",
      "metadata": {
        "id": "sdnPPECk-dhY"
      },
      "source": [
        "`y1`,`y2`, and `y3` list store  $\\log_e x, \\log_e (x+4)$ and  $\\log_e x+4\\$ respectively in the above cell."
      ]
    },
    {
      "cell_type": "code",
      "metadata": {
        "colab": {
          "base_uri": "https://localhost:8080/",
          "height": 295
        },
        "id": "po3o9aIcw9Bx",
        "outputId": "554c691b-8228-4801-e296-33022703f5e0"
      },
      "source": [
        "\n",
        "#Plot graph\n",
        "plt.plot(x, y1, label = \"logx\")\n",
        "plt.plot(x, y2, label = \"log(x+4)\")\n",
        "plt.plot(x, y3, label = \"log(x)+4\")\n",
        "\n",
        "\n",
        "# naming the x axis\n",
        "plt.xlabel('x - axis')\n",
        "# naming the y axis\n",
        "plt.ylabel('y - axis')\n",
        "# adding title to the graph\n",
        "plt.title('Graph')\n",
        "\n",
        "# show a legend on the plot\n",
        "plt.legend()\n",
        "\n",
        "# function to show the plot\n",
        "plt.show()"
      ],
      "execution_count": null,
      "outputs": [
        {
          "output_type": "display_data",
          "data": {
            "image/png": "[encoded data removed]",
            "text/plain": [
              "<Figure size 432x288 with 1 Axes>"
            ]
          },
          "metadata": {
            "tags": [],
            "needs_background": "light"
          }
        }
      ]
    },
    {
      "cell_type": "markdown",
      "metadata": {
        "id": "6vo0gpnVAWbj"
      },
      "source": [
        "**Q:** What are your observations?\n",
        "\n",
        "**A:** We can observe the difference between adding a constant to `x` and log term. Adding constant does have a high impact."
      ]
    },
    {
      "cell_type": "markdown",
      "metadata": {
        "id": "DHbNFPgh4izS"
      },
      "source": [
        "---"
      ]
    },
    {
      "cell_type": "markdown",
      "metadata": {
        "id": "g2viaDV44jj6"
      },
      "source": [
        "#### Activity 5: Plot a graph with $y=\\{\\log_e x,(\\log_e (x))^2,\\log_e (x^2)\\}$\n",
        "\n",
        "Calculate corresponding values for $y=\\{\\log_e x,(\\log_e (x))^2,\\log_e (x^2)\\}$\n",
        "and store them in variables `y1`, `y2`, and `y3`respectively."
      ]
    },
    {
      "cell_type": "code",
      "metadata": {
        "id": "GoXN8AMN5ugb"
      },
      "source": [
        "# Evaluate log(x) for corresponding values of x.\n",
        "\n",
        "y1=[]\n",
        "for i in range(len(x)):\n",
        "  y1.append(np.log(x[i]))\n",
        "\n",
        "# Evaluate (log(x))^2 for corresponding values of x.\n",
        "y2=[]\n",
        "for i in range(len(x)):\n",
        "  y2.append((np.log(x[i]))*(np.log(x[i])))\n",
        "\n",
        "# Evaluate log(x^2) for corresponding values of x.\n",
        "y3=[]\n",
        "for i in range(len(x)):\n",
        "  y3.append(np.log(x[i]*x[i]))\n"
      ],
      "execution_count": null,
      "outputs": []
    },
    {
      "cell_type": "markdown",
      "metadata": {
        "id": "Z5a3Ucj9-6AM"
      },
      "source": [
        "`y1`,`y2`, and `y3` list store  $\\log_e x,(\\log_e (x))^2$ and $\\log_e (x^2)$ respectively in the above cell."
      ]
    },
    {
      "cell_type": "code",
      "metadata": {
        "colab": {
          "base_uri": "https://localhost:8080/",
          "height": 295
        },
        "id": "FkIt0ooz5xZo",
        "outputId": "dde3db15-5ffc-4acc-a620-4ff147900011"
      },
      "source": [
        "# Plot graph\n",
        "plt.plot(x, y1, label = \"log x\")\n",
        "plt.plot(x, y2, label = \"(log x)^2\")\n",
        "plt.plot(x, y3, label = \"log x^2\")\n",
        "\n",
        "\n",
        "# naming the x axis\n",
        "plt.xlabel('x - axis')\n",
        "# naming the y axis\n",
        "plt.ylabel('y - axis')\n",
        "# adding title to the graph\n",
        "plt.title('Graph')\n",
        "\n",
        "# show a legend on the plot\n",
        "plt.legend()\n",
        "\n",
        "# function to show the plot\n",
        "plt.show()"
      ],
      "execution_count": null,
      "outputs": [
        {
          "output_type": "display_data",
          "data": {
            "image/png": "[encoded data removed]",
            "text/plain": [
              "<Figure size 432x288 with 1 Axes>"
            ]
          },
          "metadata": {
            "tags": [],
            "needs_background": "light"
          }
        }
      ]
    },
    {
      "cell_type": "markdown",
      "metadata": {
        "id": "UMJsBtfZBDee"
      },
      "source": [
        "**Q:** What are your observations?\n",
        "\n",
        "**A:** We can observe the difference between squaring log-term and taking the log of x square. Squaring x does have a higher impact."
      ]
    }
  ]
}