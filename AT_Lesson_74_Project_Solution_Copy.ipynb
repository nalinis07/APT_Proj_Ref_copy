{
  "nbformat": 4,
  "nbformat_minor": 0,
  "metadata": {
    "colab": {
      "provenance": [],
      "include_colab_link": true
    },
    "kernelspec": {
      "name": "python3",
      "display_name": "Python 3"
    }
  },
  "cells": [
    {
      "cell_type": "markdown",
      "metadata": {
        "id": "view-in-github",
        "colab_type": "text"
      },
      "source": [
        "<a href=\"https://colab.research.google.com/github/nalinis07/APT_Proj_Ref_copy/blob/MASTER/AT_Lesson_74_Project_Solution_Copy.ipynb\" target=\"_parent\"><img src=\"https://colab.research.google.com/assets/colab-badge.svg\" alt=\"Open In Colab\"/></a>"
      ]
    },
    {
      "cell_type": "markdown",
      "metadata": {
        "id": "erYQyGJOT0Ya"
      },
      "source": [
        "### Instructions"
      ]
    },
    {
      "cell_type": "markdown",
      "metadata": {
        "id": "Y3MP63loT5wP"
      },
      "source": [
        "#### Goal of the Project\n",
        "\n",
        "This project is designed for you to practice and solve the activities that are based on the concepts covered in the following lessons:\n",
        "\n",
        " 1. Logistic Regression - Univariate Classification I\n",
        "\n",
        " 2. Logistic Regression - Univariate Classification II\n",
        "\n",
        " 3. Logistic Regression - Decision Boundary.\n",
        "\n",
        "\n",
        ""
      ]
    },
    {
      "cell_type": "markdown",
      "metadata": {
        "id": "9c6PRCvhv4PR"
      },
      "source": [
        "---"
      ]
    },
    {
      "cell_type": "markdown",
      "metadata": {
        "id": "Y8OJHhG4v5ej"
      },
      "source": [
        "### Problem Statement\n",
        "\n",
        "Nowadays, social media advertising is one of the popular forms of advertising. Advertisers can utilise a user's demographic information and target their ads accordingly.\n",
        "\n",
        "Build a Logistic Regression model to determine whether or not a user will purchase a particular product displayed on a social network ad by analysing the impact of the age of the user.\n",
        "\n"
      ]
    },
    {
      "cell_type": "markdown",
      "metadata": {
        "id": "cV6O1B17yAmf"
      },
      "source": [
        "---"
      ]
    },
    {
      "cell_type": "markdown",
      "metadata": {
        "id": "7QID5cPsyBMs"
      },
      "source": [
        "### List of Activities\n",
        "\n",
        "**Activity 1:** Analyse the Dataset\n",
        "\n",
        "  \n",
        "**Activity 2:**  Normalise the Dataset\n",
        "\n",
        "**Activity 3:**  Calculate the Sigmoid Output\n",
        "\n",
        "**Activity 4:** Model prediction\n",
        "\n",
        "**Activity 5:** Model Evaluation\n",
        "\n",
        "**Activity 6**: Experiment and Compare Performance With Some Threshold Values"
      ]
    },
    {
      "cell_type": "markdown",
      "metadata": {
        "id": "Gddd4cfWyEOa"
      },
      "source": [
        "---"
      ]
    },
    {
      "cell_type": "markdown",
      "metadata": {
        "id": "OkWqRyLTyE1Z"
      },
      "source": [
        "#### Activity 1:  Analyse the Dataset\n",
        "\n",
        "\n",
        "\n",
        "- Create a Pandas DataFrame for a **Social Network** dataset using the below link. This dataset consists of the following columns:\n",
        "\n",
        "|Field|Description|\n",
        "|---:|:---|\n",
        "|UserID|Unique ID|\n",
        "|Gender|Male or Female|\n",
        "|Age|Age of a person|\n",
        "|EstimatedSalary|Salary of a person|\n",
        "|Purchased|‘0’ or ‘1’. ‘0’ means not purchased and ‘1’ means purchased.|\n",
        "\n",
        "  **Source:** https://www.kaggle.com/rishabhsingh98/social-network-ads\n",
        "\n",
        "  **Dataset Link:** https://student-datasets-bucket.s3.ap-south-1.amazonaws.com/whitehat-ds-datasets/social-network-ads.csv\n",
        "\n",
        "\n",
        "- Print first five rows of the dataset.\n"
      ]
    },
    {
      "cell_type": "code",
      "metadata": {
        "id": "d8LegW1YyS3V"
      },
      "source": [
        "# Import the required modules and load the dataset\n",
        "\n",
        "import numpy as np\n",
        "import pandas as pd\n",
        "import matplotlib.pyplot as plt\n",
        "import seaborn as sns\n",
        "\n",
        "csv_file = 'https://student-datasets-bucket.s3.ap-south-1.amazonaws.com/whitehat-ds-datasets/social-network-ads.csv'\n",
        "df = pd.read_csv(csv_file)"
      ],
      "execution_count": null,
      "outputs": []
    },
    {
      "cell_type": "code",
      "metadata": {
        "colab": {
          "base_uri": "https://localhost:8080/",
          "height": 204
        },
        "id": "XMuURFw6yZmC",
        "outputId": "3e5c65e7-809f-4605-b6a7-d8c86e2f350e"
      },
      "source": [
        "# Print first five rows of the dataframe.\n",
        "df.head()"
      ],
      "execution_count": null,
      "outputs": [
        {
          "output_type": "execute_result",
          "data": {
            "text/html": [
              "<div>\n",
              "<style scoped>\n",
              "    .dataframe tbody tr th:only-of-type {\n",
              "        vertical-align: middle;\n",
              "    }\n",
              "\n",
              "    .dataframe tbody tr th {\n",
              "        vertical-align: top;\n",
              "    }\n",
              "\n",
              "    .dataframe thead th {\n",
              "        text-align: right;\n",
              "    }\n",
              "</style>\n",
              "<table border=\"1\" class=\"dataframe\">\n",
              "  <thead>\n",
              "    <tr style=\"text-align: right;\">\n",
              "      <th></th>\n",
              "      <th>User ID</th>\n",
              "      <th>Gender</th>\n",
              "      <th>Age</th>\n",
              "      <th>EstimatedSalary</th>\n",
              "      <th>Purchased</th>\n",
              "    </tr>\n",
              "  </thead>\n",
              "  <tbody>\n",
              "    <tr>\n",
              "      <th>0</th>\n",
              "      <td>15624510</td>\n",
              "      <td>Male</td>\n",
              "      <td>19</td>\n",
              "      <td>19000</td>\n",
              "      <td>0</td>\n",
              "    </tr>\n",
              "    <tr>\n",
              "      <th>1</th>\n",
              "      <td>15810944</td>\n",
              "      <td>Male</td>\n",
              "      <td>35</td>\n",
              "      <td>20000</td>\n",
              "      <td>0</td>\n",
              "    </tr>\n",
              "    <tr>\n",
              "      <th>2</th>\n",
              "      <td>15668575</td>\n",
              "      <td>Female</td>\n",
              "      <td>26</td>\n",
              "      <td>43000</td>\n",
              "      <td>0</td>\n",
              "    </tr>\n",
              "    <tr>\n",
              "      <th>3</th>\n",
              "      <td>15603246</td>\n",
              "      <td>Female</td>\n",
              "      <td>27</td>\n",
              "      <td>57000</td>\n",
              "      <td>0</td>\n",
              "    </tr>\n",
              "    <tr>\n",
              "      <th>4</th>\n",
              "      <td>15804002</td>\n",
              "      <td>Male</td>\n",
              "      <td>19</td>\n",
              "      <td>76000</td>\n",
              "      <td>0</td>\n",
              "    </tr>\n",
              "  </tbody>\n",
              "</table>\n",
              "</div>"
            ],
            "text/plain": [
              "    User ID  Gender  Age  EstimatedSalary  Purchased\n",
              "0  15624510    Male   19            19000          0\n",
              "1  15810944    Male   35            20000          0\n",
              "2  15668575  Female   26            43000          0\n",
              "3  15603246  Female   27            57000          0\n",
              "4  15804002    Male   19            76000          0"
            ]
          },
          "metadata": {
            "tags": []
          },
          "execution_count": 17
        }
      ]
    },
    {
      "cell_type": "code",
      "metadata": {
        "colab": {
          "base_uri": "https://localhost:8080/"
        },
        "id": "qBZ8bgu8nInW",
        "outputId": "4081de14-ae78-4170-a38b-f1139d893c89"
      },
      "source": [
        "# Check for null values\n",
        "df.isnull().sum()"
      ],
      "execution_count": null,
      "outputs": [
        {
          "output_type": "execute_result",
          "data": {
            "text/plain": [
              "User ID            0\n",
              "Gender             0\n",
              "Age                0\n",
              "EstimatedSalary    0\n",
              "Purchased          0\n",
              "dtype: int64"
            ]
          },
          "metadata": {
            "tags": []
          },
          "execution_count": 18
        }
      ]
    },
    {
      "cell_type": "markdown",
      "metadata": {
        "id": "T-bX2wLonKzU"
      },
      "source": [
        "**Q:** Are there any missing values?\n",
        "\n",
        "**A:** No"
      ]
    },
    {
      "cell_type": "code",
      "metadata": {
        "colab": {
          "base_uri": "https://localhost:8080/",
          "height": 269
        },
        "id": "dbFRn6XBnGS8",
        "outputId": "b5dfb474-b007-443c-9a4d-5c9f63d10324"
      },
      "source": [
        "# Create a heatmap to identify the relation between attributes\n",
        "sns.heatmap(df.corr(),annot=True)\n",
        "plt.show()"
      ],
      "execution_count": null,
      "outputs": [
        {
          "output_type": "display_data",
          "data": {
            "image/png": "[encoded data removed]",
            "text/plain": [
              "<Figure size 432x288 with 2 Axes>"
            ]
          },
          "metadata": {
            "tags": [],
            "needs_background": "light"
          }
        }
      ]
    },
    {
      "cell_type": "markdown",
      "metadata": {
        "id": "B6Faw5WYnf-O"
      },
      "source": [
        "**Q:** Which attribute(s) has the strongest relationship with the `Purchased` feature? Why?\n",
        "\n",
        "**A:** Age. As it can be observed from the heatmap that the age column has high correlation with the purchased column.  "
      ]
    },
    {
      "cell_type": "markdown",
      "metadata": {
        "id": "no23D1D7yd3d"
      },
      "source": [
        "---"
      ]
    },
    {
      "cell_type": "markdown",
      "metadata": {
        "id": "7RGCWGLRm0wF"
      },
      "source": [
        "#### Activity 2:  Normalise the Dataset\n",
        "\n",
        " Perform the following tasks:\n",
        "\n",
        " - Get the descriptive statistics for the `Age` column.\n",
        "\n",
        " - Normalise the `Age` column values by calculating their $Z$-scores (or standard scaler).\n",
        "\n"
      ]
    },
    {
      "cell_type": "code",
      "metadata": {
        "colab": {
          "base_uri": "https://localhost:8080/",
          "height": 555
        },
        "id": "ZwNbJzG7noyc",
        "outputId": "bda7878b-ba7e-4d36-b52d-28d7e705cc27"
      },
      "source": [
        "# Get the descriptive statistics for the 'Age' column.\n",
        "print(f\"Age Descriptive Statistics:\\n{df['Age'].describe()}\\n\")\n",
        "# Plot a histogram to show the distribution of values for the 'Age' column.\n",
        "plt.figure(figsize = (12, 4), dpi = 96)\n",
        "plt.title(\"Histogram for Age Values\")\n",
        "plt.hist(df['Age'], bins = 'sturges', edgecolor = 'black')\n",
        "plt.show()"
      ],
      "execution_count": null,
      "outputs": [
        {
          "output_type": "stream",
          "text": [
            "Age Descriptive Statistics:\n",
            "count    400.000000\n",
            "mean      37.655000\n",
            "std       10.482877\n",
            "min       18.000000\n",
            "25%       29.750000\n",
            "50%       37.000000\n",
            "75%       46.000000\n",
            "max       60.000000\n",
            "Name: Age, dtype: float64\n",
            "\n"
          ],
          "name": "stdout"
        },
        {
          "output_type": "display_data",
          "data": {
            "image/png": "[encoded data removed]",
            "text/plain": [
              "<Figure size 1152x384 with 1 Axes>"
            ]
          },
          "metadata": {
            "tags": [],
            "needs_background": "light"
          }
        }
      ]
    },
    {
      "cell_type": "code",
      "metadata": {
        "colab": {
          "base_uri": "https://localhost:8080/",
          "height": 555
        },
        "id": "i8jUq398nyK_",
        "outputId": "e90edea6-e3c7-4a06-85ad-b961c675eb14"
      },
      "source": [
        "# Normalise the 'Age' column values using the standard scaler method.\n",
        "def standard_scaler(series):\n",
        "  new_series = (series - series.mean()) / series.std()\n",
        "  return new_series\n",
        "\n",
        "# Get the descriptive statistics for the normalised 'Age' column.\n",
        "age_scaled = standard_scaler(df['Age'])\n",
        "print(f\"Descriptive statistics for the normalised age values:\\n{age_scaled.describe()}\\n\")\n",
        "\n",
        "# Plot a histogram to show the distribution of values for the normalised 'age' column.\n",
        "plt.figure(figsize = (12, 4), dpi = 96)\n",
        "plt.title(\"Histogram for the normalised age values\")\n",
        "plt.hist(age_scaled, bins = 'sturges', edgecolor = 'black')\n",
        "plt.show()"
      ],
      "execution_count": null,
      "outputs": [
        {
          "output_type": "stream",
          "text": [
            "Descriptive statistics for the normalised age values:\n",
            "count    4.000000e+02\n",
            "mean    -2.486900e-16\n",
            "std      1.000000e+00\n",
            "min     -1.874962e+00\n",
            "25%     -7.540869e-01\n",
            "50%     -6.248285e-02\n",
            "75%      7.960601e-01\n",
            "max      2.131571e+00\n",
            "Name: Age, dtype: float64\n",
            "\n"
          ],
          "name": "stdout"
        },
        {
          "output_type": "display_data",
          "data": {
            "image/png": "[encoded data removed]",
            "text/plain": [
              "<Figure size 1152x384 with 1 Axes>"
            ]
          },
          "metadata": {
            "tags": [],
            "needs_background": "light"
          }
        }
      ]
    },
    {
      "cell_type": "markdown",
      "metadata": {
        "id": "WVBOOGjuoJqO"
      },
      "source": [
        "---"
      ]
    },
    {
      "cell_type": "markdown",
      "metadata": {
        "id": "4ne6b_j10JOO"
      },
      "source": [
        "#### Activity 3:  Calculate the Sigmoid Output\n",
        "\n",
        "1. Create a sigmoid function.\n",
        "\n",
        "2.  Calculate the sigmoid output for the scaled (or Normalised) `Age` values."
      ]
    },
    {
      "cell_type": "code",
      "metadata": {
        "id": "byMs7DJKoYnt"
      },
      "source": [
        "# Create a sigmoid() function using the above formula.\n",
        "def sigmoid(x):\n",
        "  return pd.Series(1 / (1 + np.exp(-x)))"
      ],
      "execution_count": null,
      "outputs": []
    },
    {
      "cell_type": "code",
      "metadata": {
        "colab": {
          "base_uri": "https://localhost:8080/"
        },
        "id": "moY-xMeLoacu",
        "outputId": "297f24c5-51bd-40ef-b529-37cb8da9e52e"
      },
      "source": [
        "# Calculate the sigmoid output for the scaled (or normalised) Age values.\n",
        "age_scaled_sigmoid_output = sigmoid(age_scaled)\n",
        "\n",
        "# Get the descriptive statistics for the sigmoid output of the normalised 'Age'.\n",
        "print(f\"Descriptive stats for sigmoid output of scaled Age values:\\n{age_scaled_sigmoid_output.describe()}\")"
      ],
      "execution_count": null,
      "outputs": [
        {
          "output_type": "stream",
          "text": [
            "Descriptive stats for sigmoid output of scaled Age values:\n",
            "count    400.000000\n",
            "mean       0.497031\n",
            "std        0.212792\n",
            "min        0.132969\n",
            "25%        0.319999\n",
            "50%        0.484384\n",
            "75%        0.689131\n",
            "max        0.893934\n",
            "Name: Age, dtype: float64\n"
          ],
          "name": "stdout"
        }
      ]
    },
    {
      "cell_type": "markdown",
      "metadata": {
        "id": "iwOFw0uglpXf"
      },
      "source": [
        "---"
      ]
    },
    {
      "cell_type": "markdown",
      "metadata": {
        "id": "HeKSJ2kDK1sD"
      },
      "source": [
        "#### Activity 4:  Model Prediction\n",
        "\n",
        "Consider the threshold probability value of 0.5.\n",
        "\n",
        "- Create a function that classifies the sigmoid output for the scaled  `Age` values into 0s and 1s using a threshold value of 0.5.\n"
      ]
    },
    {
      "cell_type": "code",
      "metadata": {
        "id": "-YHBFvoZ-1Ju"
      },
      "source": [
        "# Create a function 'predict()' that takes the sigmoid output and the threshold as its input and returns a Pandas series containing the predicted values (0s and 1s) as its output.\n",
        "\n",
        "def predict(sigmoid_output, threshold):\n",
        "  y_pred = [1 if output >= threshold else 0 for output in sigmoid_output]\n",
        "  return pd.Series(y_pred)"
      ],
      "execution_count": null,
      "outputs": []
    },
    {
      "cell_type": "code",
      "metadata": {
        "colab": {
          "base_uri": "https://localhost:8080/"
        },
        "id": "WvpYszOrpBBV",
        "outputId": "b6a08cb2-3c7a-4e81-97fe-cd004098516a"
      },
      "source": [
        "# Use the 'predict()' function to classify the 'sigmoid()' function outputs as 0 and 1.\n",
        "# Consider a threshold value of 0.5.\n",
        "threshold = 0.5\n",
        "y_pred = predict(age_scaled_sigmoid_output, threshold)\n",
        "y_pred"
      ],
      "execution_count": null,
      "outputs": [
        {
          "output_type": "execute_result",
          "data": {
            "text/plain": [
              "0      0\n",
              "1      0\n",
              "2      0\n",
              "3      0\n",
              "4      0\n",
              "      ..\n",
              "395    1\n",
              "396    1\n",
              "397    1\n",
              "398    0\n",
              "399    1\n",
              "Length: 400, dtype: int64"
            ]
          },
          "metadata": {
            "tags": []
          },
          "execution_count": 12
        }
      ]
    },
    {
      "cell_type": "markdown",
      "metadata": {
        "id": "Nx7LZFPklloT"
      },
      "source": [
        "---"
      ]
    },
    {
      "cell_type": "markdown",
      "metadata": {
        "id": "Wf7G6AMyND1s"
      },
      "source": [
        "#### Activity 5:  Model Evaluation\n",
        "\n",
        "Evaluate the model by calculating the number of false positives and false negatives using a confusion matrix. Also, print the classification report for the predicted values."
      ]
    },
    {
      "cell_type": "code",
      "metadata": {
        "colab": {
          "base_uri": "https://localhost:8080/"
        },
        "id": "MujpW8MlD5JO",
        "outputId": "eadc9847-1613-4d2f-f58b-d729571f6571"
      },
      "source": [
        "# Create a confusion matrix for the predicted values.\n",
        "from sklearn.metrics import confusion_matrix\n",
        "\n",
        "print(confusion_matrix(df['Purchased'], y_pred))"
      ],
      "execution_count": null,
      "outputs": [
        {
          "output_type": "stream",
          "text": [
            "[[181  76]\n",
            " [ 29 114]]\n"
          ],
          "name": "stdout"
        }
      ]
    },
    {
      "cell_type": "code",
      "metadata": {
        "colab": {
          "base_uri": "https://localhost:8080/"
        },
        "id": "JxQLwQOSD9fr",
        "outputId": "b5ed742d-a5c0-4fff-c889-dc9f3d9e3849"
      },
      "source": [
        "# Print the classification report for the predicted values.\n",
        "from sklearn.metrics import classification_report\n",
        "\n",
        "print(classification_report(df['Purchased'], y_pred))"
      ],
      "execution_count": null,
      "outputs": [
        {
          "output_type": "stream",
          "text": [
            "              precision    recall  f1-score   support\n",
            "\n",
            "           0       0.86      0.70      0.78       257\n",
            "           1       0.60      0.80      0.68       143\n",
            "\n",
            "    accuracy                           0.74       400\n",
            "   macro avg       0.73      0.75      0.73       400\n",
            "weighted avg       0.77      0.74      0.74       400\n",
            "\n"
          ],
          "name": "stdout"
        }
      ]
    },
    {
      "cell_type": "markdown",
      "metadata": {
        "id": "FbNcwVwsqDj-"
      },
      "source": [
        "**Q** Write the count of f1-score for both the labels?\n",
        "\n",
        "**A:** 1. Label `0`  : 0.78\n",
        "2. Label `1`  : 0.68"
      ]
    },
    {
      "cell_type": "markdown",
      "metadata": {
        "id": "c6sSXFVQ52mF"
      },
      "source": [
        "---"
      ]
    },
    {
      "cell_type": "markdown",
      "metadata": {
        "id": "OVsmm4d45z0q"
      },
      "source": [
        "#### Activity 6: Experiment and Compare Performance With Some Threshold Values\n",
        "\n",
        "Try threshold values =$[0.1,0.3,0.5,0.7,0.9]$ and compare their performance. Plot a graph to visualise."
      ]
    },
    {
      "cell_type": "code",
      "metadata": {
        "colab": {
          "base_uri": "https://localhost:8080/",
          "height": 282
        },
        "id": "Dmgt36Lb61gt",
        "outputId": "378b91ab-24a1-4716-b98b-f2dfd845f534"
      },
      "source": [
        "# Function to calculate accuracy\n",
        "def acc(y,y_pred):\n",
        "  count=0\n",
        "  for i in range(len(y)):\n",
        "    if y[i]==y_pred[i]:\n",
        "      count=count+1\n",
        "  return count/len(y)\n",
        "\n",
        "\n",
        "# Calculate accuracy and save it in the accuracy list\n",
        "threshold=[0.1,0.3,0.5,0.7,0.9]\n",
        "accuracy=[]\n",
        "\n",
        "\n",
        "for i in [0.1,0.3,0.5,0.7,0.9]:\n",
        "  y_pred=predict(age_scaled_sigmoid_output, i)\n",
        "  accuracy.append(acc(df['Purchased'], y_pred))\n",
        "\n",
        "# Print the accuracy values\n",
        "print(accuracy)\n",
        "\n",
        "# Plot a graph to visualise the accuracy for various thresholds\n",
        "plt.plot(threshold,accuracy)\n",
        "\n",
        "# Function to show the plot\n",
        "plt.show()"
      ],
      "execution_count": null,
      "outputs": [
        {
          "output_type": "stream",
          "text": [
            "[0.3575, 0.5675, 0.7375, 0.82, 0.6425]\n"
          ],
          "name": "stdout"
        },
        {
          "output_type": "display_data",
          "data": {
            "image/png": "[encoded data removed]",
            "text/plain": [
              "<Figure size 432x288 with 1 Axes>"
            ]
          },
          "metadata": {
            "tags": [],
            "needs_background": "light"
          }
        }
      ]
    },
    {
      "cell_type": "markdown",
      "metadata": {
        "id": "jpTvkrxF-mHa"
      },
      "source": [
        "**Q:** What are your observations for change in accuracy with respect to threshold values? Why do you think this is the case?\n",
        "\n",
        "**A:** There is increase in the accuracy and then sudden dip is observed.\n",
        "\n",
        "**Reason**: As we move along the extremes in the sigmoid function, it becomes more biased towards certain labels."
      ]
    },
    {
      "cell_type": "markdown",
      "metadata": {
        "id": "g1IXmbUblb2w"
      },
      "source": [
        "---"
      ]
    }
  ]
}