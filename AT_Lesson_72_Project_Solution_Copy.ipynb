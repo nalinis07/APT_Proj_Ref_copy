{
  "nbformat": 4,
  "nbformat_minor": 0,
  "metadata": {
    "colab": {
      "provenance": [],
      "include_colab_link": true
    },
    "kernelspec": {
      "name": "python3",
      "display_name": "Python 3"
    }
  },
  "cells": [
    {
      "cell_type": "markdown",
      "metadata": {
        "id": "view-in-github",
        "colab_type": "text"
      },
      "source": [
        "<a href=\"https://colab.research.google.com/github/nalinis07/APT_Proj_Ref_copy/blob/MASTER/AT_Lesson_72_Project_Solution_Copy.ipynb\" target=\"_parent\"><img src=\"https://colab.research.google.com/assets/colab-badge.svg\" alt=\"Open In Colab\"/></a>"
      ]
    },
    {
      "cell_type": "markdown",
      "metadata": {
        "id": "aQIDTCSIwTP3"
      },
      "source": [
        "### Instructions"
      ]
    },
    {
      "cell_type": "markdown",
      "metadata": {
        "id": "F_IP6BNb3Ne1"
      },
      "source": [
        "---"
      ]
    },
    {
      "cell_type": "markdown",
      "metadata": {
        "id": "azReToS7wWX3"
      },
      "source": [
        "#### Goal of the Project\n",
        "\n",
        "This project is designed for you to practice and solve the activities that are based on the concepts covered in the following lessons:\n",
        "\n",
        " 1. Deploying A Prediction Model\n",
        " 2. Model Evaluation\n",
        " 3. Logistic Regression - Univariate I\n",
        "\n",
        ""
      ]
    },
    {
      "cell_type": "markdown",
      "metadata": {
        "id": "llwKuOyIwnA_"
      },
      "source": [
        "---"
      ]
    },
    {
      "cell_type": "markdown",
      "metadata": {
        "id": "fR_SN7K6475D"
      },
      "source": [
        "### Problem Statement\n",
        "\n",
        "Nowadays, social media advertising is one of the popular forms of  advertising. Advertisers can utilise user's demographic information and target their ads accordingly.\n",
        "\n",
        "Implement Random Forest Classification and Logistic Regression to determine whether a user will purchase a particular product displayed on a social network ad or not.  Compare the accuracy of both the classification algorithms.\n"
      ]
    },
    {
      "cell_type": "markdown",
      "metadata": {
        "id": "lN1iCMJ4Oy1N"
      },
      "source": [
        "---"
      ]
    },
    {
      "cell_type": "markdown",
      "metadata": {
        "id": "L3zN-iv-wpjm"
      },
      "source": [
        "### List of Activities\n",
        "\n",
        "**Activity 1:** Analysing the Dataset\n",
        "\n",
        "**Activity 2:** Train-Test Split\n",
        "\n",
        "**Activity 3:** Random Forest Classification - Model Training\n",
        "\n",
        "**Activity 4:** Random Forest Classification - Model Prediction and Evaluation\n",
        "\n",
        "**Activity 5:** Logistic Regression - Model Training\n",
        "\n",
        "**Activity 6:** Logistic Regression - Model Prediction and Evaluation\n",
        "\n",
        "**Activity 7:** Comparision and Conclusion\n",
        "\n",
        "\n",
        "\n",
        "\n",
        "\n",
        "\n"
      ]
    },
    {
      "cell_type": "markdown",
      "metadata": {
        "id": "jLudEnlPO0FF"
      },
      "source": [
        "---"
      ]
    },
    {
      "cell_type": "markdown",
      "metadata": {
        "id": "lZt4yKiJwrUs"
      },
      "source": [
        "\n",
        "#### Activity 1:  Analysing the Dataset\n",
        "\n",
        "- Create a Pandas DataFrame for **Social Network** dataset using the below link. This dataset consists of following columns:\n",
        "\n",
        "|Field|Description|\n",
        "|---:|:---|\n",
        "|UserID|Unique ID|\n",
        "|Gender|Male or Female|\n",
        "|Age|Age of a person|\n",
        "|EstimatedSalary|Salary of a person|\n",
        "|Purchased|‘0’ or ‘1’. ‘0’ means not purchased and ‘1’ means purchased.|\n",
        "\n",
        "\n",
        "  **Source:** https://www.kaggle.com/rishabhsingh98/social-network-ads\n",
        "  \n",
        "  **Dataset Link:** https://student-datasets-bucket.s3.ap-south-1.amazonaws.com/whitehat-ds-datasets/social-network-ads.csv\n",
        "\n",
        "- Print the first five rows of the dataset. Check for null values and treat them accordingly (if any).\n",
        "\n",
        "- Create a heatmap to identify the relationship between the independent attributes and dependent attribute `Purchased`.\n",
        "\n",
        "\n"
      ]
    },
    {
      "cell_type": "code",
      "metadata": {
        "colab": {
          "base_uri": "https://localhost:8080/",
          "height": 204
        },
        "id": "0Ur0bY85pWfy",
        "outputId": "235bab6d-6ad4-4f9b-f150-1abd1d8b5b60"
      },
      "source": [
        "# Import modules\n",
        "import seaborn as sns\n",
        "import pandas as pd\n",
        "import matplotlib.pyplot as plt\n",
        "import numpy as np\n",
        "\n",
        "# Load the dataset\n",
        "df = pd.read_csv('https://student-datasets-bucket.s3.ap-south-1.amazonaws.com/whitehat-ds-datasets/social-network-ads.csv')\n",
        "\n",
        "# Print the first five rows of the dataframe\n",
        "df.head()"
      ],
      "execution_count": null,
      "outputs": [
        {
          "output_type": "execute_result",
          "data": {
            "text/html": [
              "<div>\n",
              "<style scoped>\n",
              "    .dataframe tbody tr th:only-of-type {\n",
              "        vertical-align: middle;\n",
              "    }\n",
              "\n",
              "    .dataframe tbody tr th {\n",
              "        vertical-align: top;\n",
              "    }\n",
              "\n",
              "    .dataframe thead th {\n",
              "        text-align: right;\n",
              "    }\n",
              "</style>\n",
              "<table border=\"1\" class=\"dataframe\">\n",
              "  <thead>\n",
              "    <tr style=\"text-align: right;\">\n",
              "      <th></th>\n",
              "      <th>User ID</th>\n",
              "      <th>Gender</th>\n",
              "      <th>Age</th>\n",
              "      <th>EstimatedSalary</th>\n",
              "      <th>Purchased</th>\n",
              "    </tr>\n",
              "  </thead>\n",
              "  <tbody>\n",
              "    <tr>\n",
              "      <th>0</th>\n",
              "      <td>15624510</td>\n",
              "      <td>Male</td>\n",
              "      <td>19</td>\n",
              "      <td>19000</td>\n",
              "      <td>0</td>\n",
              "    </tr>\n",
              "    <tr>\n",
              "      <th>1</th>\n",
              "      <td>15810944</td>\n",
              "      <td>Male</td>\n",
              "      <td>35</td>\n",
              "      <td>20000</td>\n",
              "      <td>0</td>\n",
              "    </tr>\n",
              "    <tr>\n",
              "      <th>2</th>\n",
              "      <td>15668575</td>\n",
              "      <td>Female</td>\n",
              "      <td>26</td>\n",
              "      <td>43000</td>\n",
              "      <td>0</td>\n",
              "    </tr>\n",
              "    <tr>\n",
              "      <th>3</th>\n",
              "      <td>15603246</td>\n",
              "      <td>Female</td>\n",
              "      <td>27</td>\n",
              "      <td>57000</td>\n",
              "      <td>0</td>\n",
              "    </tr>\n",
              "    <tr>\n",
              "      <th>4</th>\n",
              "      <td>15804002</td>\n",
              "      <td>Male</td>\n",
              "      <td>19</td>\n",
              "      <td>76000</td>\n",
              "      <td>0</td>\n",
              "    </tr>\n",
              "  </tbody>\n",
              "</table>\n",
              "</div>"
            ],
            "text/plain": [
              "    User ID  Gender  Age  EstimatedSalary  Purchased\n",
              "0  15624510    Male   19            19000          0\n",
              "1  15810944    Male   35            20000          0\n",
              "2  15668575  Female   26            43000          0\n",
              "3  15603246  Female   27            57000          0\n",
              "4  15804002    Male   19            76000          0"
            ]
          },
          "metadata": {
            "tags": []
          },
          "execution_count": 12
        }
      ]
    },
    {
      "cell_type": "code",
      "metadata": {
        "colab": {
          "base_uri": "https://localhost:8080/"
        },
        "id": "OiSg9X-VIfox",
        "outputId": "47941b4b-589e-4580-bca8-1ee50dd2e370"
      },
      "source": [
        "# Print the dataset information\n",
        "df.info()"
      ],
      "execution_count": null,
      "outputs": [
        {
          "output_type": "stream",
          "text": [
            "<class 'pandas.core.frame.DataFrame'>\n",
            "RangeIndex: 400 entries, 0 to 399\n",
            "Data columns (total 5 columns):\n",
            " #   Column           Non-Null Count  Dtype \n",
            "---  ------           --------------  ----- \n",
            " 0   User ID          400 non-null    int64 \n",
            " 1   Gender           400 non-null    object\n",
            " 2   Age              400 non-null    int64 \n",
            " 3   EstimatedSalary  400 non-null    int64 \n",
            " 4   Purchased        400 non-null    int64 \n",
            "dtypes: int64(4), object(1)\n",
            "memory usage: 15.8+ KB\n"
          ],
          "name": "stdout"
        }
      ]
    },
    {
      "cell_type": "markdown",
      "metadata": {
        "id": "5Wzjpm4fIoD2"
      },
      "source": [
        "**Q:** Are there any missing values?\n",
        "\n",
        "**A:** No"
      ]
    },
    {
      "cell_type": "code",
      "metadata": {
        "colab": {
          "base_uri": "https://localhost:8080/",
          "height": 269
        },
        "id": "O6x-PNjWq9qL",
        "outputId": "e567b329-f807-4c69-eb8d-c3cab9742e72"
      },
      "source": [
        "# Create a heatmap to identify the relation between attributes\n",
        "sns.heatmap(df.corr(),annot=True)\n",
        "plt.show()"
      ],
      "execution_count": null,
      "outputs": [
        {
          "output_type": "display_data",
          "data": {
            "image/png": "[encoded data removed]",
            "text/plain": [
              "<Figure size 432x288 with 2 Axes>"
            ]
          },
          "metadata": {
            "tags": [],
            "needs_background": "light"
          }
        }
      ]
    },
    {
      "cell_type": "markdown",
      "metadata": {
        "id": "PiamSiddn8Tf"
      },
      "source": [
        "**Q:** Which attribute(s) has the strongest relationship with the `Purchased` feature?\n",
        "\n",
        "**A:** Age"
      ]
    },
    {
      "cell_type": "markdown",
      "metadata": {
        "id": "GvPGpv33MagO"
      },
      "source": [
        "---\n"
      ]
    },
    {
      "cell_type": "markdown",
      "metadata": {
        "id": "uDTmlU-Mz0fI"
      },
      "source": [
        "#### Activity 2: Train-Test Split\n",
        "\n",
        "We have to determine the effect of `Age` on purchase of the products. Thus, `Age` is the feature variable and `Purchased` is the target variable.\n",
        "\n",
        "- Split the dataset into training set and test set such that the training set contains 70% of the instances and the remaining instances will become the test set.\n",
        "\n",
        "- Reshape the feature and the target variable arrays into two-dimensional arrays by using `reshape(-1, 1)` function of `numpy` module.\n"
      ]
    },
    {
      "cell_type": "code",
      "metadata": {
        "id": "uYoe69GREXWK",
        "colab": {
          "base_uri": "https://localhost:8080/"
        },
        "outputId": "4a5d2568-f6da-4075-87fd-1a0ed7d93597"
      },
      "source": [
        "# Split the DataFrame into the train and test sets.\n",
        "\n",
        "from sklearn.model_selection import train_test_split\n",
        "\n",
        "X = df['Age']\n",
        "y = df['Purchased']\n",
        "\n",
        "# Split the DataFrame into the train and test sets such that test set has 30% of the values.\n",
        "X_train, X_test, y_train, y_test = train_test_split(X, y, test_size = 0.30, random_state = 42)\n",
        "\n",
        "# Reshape to 2-dimensional array.\n",
        "X_train = np.array(X_train).reshape(-1, 1)\n",
        "X_test = np.array(X_test).reshape(-1, 1)\n",
        "y_train = np.array(y_train).reshape(-1, 1)\n",
        "y_test = np.array(y_test).reshape(-1, 1)\n",
        "\n",
        "print(X_train.shape, X_test.shape, y_train.shape, y_test.shape)"
      ],
      "execution_count": null,
      "outputs": [
        {
          "output_type": "stream",
          "text": [
            "(280, 1) (120, 1) (280, 1) (120, 1)\n"
          ],
          "name": "stdout"
        }
      ]
    },
    {
      "cell_type": "markdown",
      "metadata": {
        "id": "BKGeeZDCNuBY"
      },
      "source": [
        "----"
      ]
    },
    {
      "cell_type": "markdown",
      "metadata": {
        "id": "ud8dLfCGjh0E"
      },
      "source": [
        "#### Activity 3: Random Forest Classification - Model Training\n",
        "\n",
        "Implement Random Forest Classification using `sklearn` module in the following way:\n",
        "\n",
        "1. Deploy the model by importing the `RandomForestClassifier` class and create an object of this class.\n",
        "2. Call the `fit()` function using the Random Forest Classifier object and print score using `score()` function using the object created.\n"
      ]
    },
    {
      "cell_type": "code",
      "metadata": {
        "id": "yh2mu9ZkUz_e"
      },
      "source": [
        "# Import the required modules from the 'sklearn.ensemble' and 'sklearn.metrics' libraries\n",
        "from sklearn.ensemble import RandomForestClassifier\n",
        "from sklearn.metrics import classification_report, confusion_matrix"
      ],
      "execution_count": null,
      "outputs": []
    },
    {
      "cell_type": "code",
      "metadata": {
        "id": "n4cMnv2jyQGz",
        "colab": {
          "base_uri": "https://localhost:8080/"
        },
        "outputId": "c56df7fe-b434-496a-eeed-9cbccf004f07"
      },
      "source": [
        "# Train the Random Forest Classifier\n",
        "rf_clf = RandomForestClassifier(n_jobs = -1, n_estimators = 100)\n",
        "\n",
        "rf_clf.fit(X_train, y_train)\n",
        "\n",
        "rf_clf.score(X_train, y_train)"
      ],
      "execution_count": null,
      "outputs": [
        {
          "output_type": "stream",
          "text": [
            "/usr/local/lib/python3.6/dist-packages/ipykernel_launcher.py:4: DataConversionWarning: A column-vector y was passed when a 1d array was expected. Please change the shape of y to (n_samples,), for example using ravel().\n",
            "  after removing the cwd from sys.path.\n"
          ],
          "name": "stderr"
        },
        {
          "output_type": "execute_result",
          "data": {
            "text/plain": [
              "0.825"
            ]
          },
          "metadata": {
            "tags": []
          },
          "execution_count": 17
        }
      ]
    },
    {
      "cell_type": "markdown",
      "metadata": {
        "id": "wUwWtI6HOg4e"
      },
      "source": [
        "-----"
      ]
    },
    {
      "cell_type": "markdown",
      "metadata": {
        "id": "fvIZzRlGOm3x"
      },
      "source": [
        "#### Activity 4: Random Forest Classification - Model Prediction and Evaluation\n",
        "\n",
        "Predict the values for both training and test sets by calling the `predict()` function on the Random Forest Classifier object.\n",
        "\n",
        "Also, compute confusion matrix and classification report values to evaluate the accuracy of your model."
      ]
    },
    {
      "cell_type": "code",
      "metadata": {
        "id": "ylnKkzbrT6Jr",
        "colab": {
          "base_uri": "https://localhost:8080/"
        },
        "outputId": "02d43f34-b4f2-4543-a148-85f87f65f90f"
      },
      "source": [
        "# Make predictions on the test dataset by using the 'predict()' function.\n",
        "rf_y_pred = rf_clf.predict(X_test)\n",
        "rf_y_pred"
      ],
      "execution_count": null,
      "outputs": [
        {
          "output_type": "execute_result",
          "data": {
            "text/plain": [
              "array([1, 0, 0, 1, 0, 0, 1, 0, 0, 0, 0, 1, 0, 0, 0, 0, 1, 1, 1, 1, 0, 0,\n",
              "       1, 0, 0, 1, 0, 0, 1, 0, 1, 0, 0, 0, 0, 0, 0, 0, 0, 0, 1, 0, 0, 1,\n",
              "       0, 1, 0, 0, 1, 0, 0, 1, 0, 0, 0, 0, 1, 0, 0, 0, 0, 0, 1, 0, 0, 0,\n",
              "       0, 1, 1, 0, 1, 0, 0, 0, 1, 0, 1, 1, 0, 0, 0, 1, 1, 1, 1, 0, 0, 1,\n",
              "       0, 0, 1, 0, 0, 0, 0, 1, 0, 0, 1, 0, 1, 1, 1, 0, 0, 0, 1, 0, 1, 0,\n",
              "       0, 1, 1, 1, 1, 0, 0, 0, 0, 0])"
            ]
          },
          "metadata": {
            "tags": []
          },
          "execution_count": 18
        }
      ]
    },
    {
      "cell_type": "code",
      "metadata": {
        "colab": {
          "base_uri": "https://localhost:8080/"
        },
        "id": "KmE_7E7LjgHe",
        "outputId": "b1b469b6-94a8-466d-bdb6-32ff7648c977"
      },
      "source": [
        "# Check the count of records classified under each label\n",
        "pd_new=pd.Series(rf_y_pred)\n",
        "pd_new.value_counts()"
      ],
      "execution_count": null,
      "outputs": [
        {
          "output_type": "execute_result",
          "data": {
            "text/plain": [
              "0    78\n",
              "1    42\n",
              "dtype: int64"
            ]
          },
          "metadata": {
            "tags": []
          },
          "execution_count": 19
        }
      ]
    },
    {
      "cell_type": "code",
      "metadata": {
        "id": "4_kCRRwloRd-",
        "colab": {
          "base_uri": "https://localhost:8080/"
        },
        "outputId": "748e85e5-8dc9-4443-af14-148c834792ab"
      },
      "source": [
        "# Display the results of 'confusion_matrix'\n",
        "confusion_matrix(y_test, rf_y_pred)"
      ],
      "execution_count": null,
      "outputs": [
        {
          "output_type": "execute_result",
          "data": {
            "text/plain": [
              "array([[65,  8],\n",
              "       [13, 34]])"
            ]
          },
          "metadata": {
            "tags": []
          },
          "execution_count": 20
        }
      ]
    },
    {
      "cell_type": "code",
      "metadata": {
        "id": "LMH7f---UTVy",
        "colab": {
          "base_uri": "https://localhost:8080/"
        },
        "outputId": "78d55a38-1aa4-4692-f21b-c3b532656736"
      },
      "source": [
        "# Display the precision, recall and f1-score values.\n",
        "print(classification_report(y_test, rf_y_pred))"
      ],
      "execution_count": null,
      "outputs": [
        {
          "output_type": "stream",
          "text": [
            "              precision    recall  f1-score   support\n",
            "\n",
            "           0       0.83      0.89      0.86        73\n",
            "           1       0.81      0.72      0.76        47\n",
            "\n",
            "    accuracy                           0.82       120\n",
            "   macro avg       0.82      0.81      0.81       120\n",
            "weighted avg       0.82      0.82      0.82       120\n",
            "\n"
          ],
          "name": "stdout"
        }
      ]
    },
    {
      "cell_type": "markdown",
      "metadata": {
        "id": "wIYiau2IR_gL"
      },
      "source": [
        "**Q** Write the count of f1-score of both labels?\n",
        "\n",
        "**A:** 1. Label `0`  : 0.86\n",
        "2. Label `1`  : 0.75"
      ]
    },
    {
      "cell_type": "markdown",
      "metadata": {
        "id": "rhmsmtCNY7DD"
      },
      "source": [
        "----"
      ]
    },
    {
      "cell_type": "markdown",
      "metadata": {
        "id": "9hn9AfqoY7DE"
      },
      "source": [
        "#### Activity 5: Logistic Regression - Model Training\n",
        "\n",
        "Implement Logistic Regression Classification using `sklearn` module in the following way:\n",
        "\n",
        "1. Deploy the model by importing the `LogisticRegression` class and create an object of this class.\n",
        "2. Call the `fit()` function on the Logistic Regression object and print score using `score()` function using the object created.\n"
      ]
    },
    {
      "cell_type": "code",
      "metadata": {
        "id": "YxtlCGgAeUkl",
        "colab": {
          "base_uri": "https://localhost:8080/"
        },
        "outputId": "c7f6b652-52c6-4422-e879-a99079d9353f"
      },
      "source": [
        "# Deploy the 'LogisticRegression' model using the 'fit()' function.\n",
        "\n",
        "from sklearn.linear_model import LogisticRegression\n",
        "\n",
        "log_reg = LogisticRegression(n_jobs = -1)\n",
        "\n",
        "log_reg.fit(X_train, y_train)\n",
        "log_reg.score(X_train, y_train)"
      ],
      "execution_count": null,
      "outputs": [
        {
          "output_type": "stream",
          "text": [
            "/usr/local/lib/python3.6/dist-packages/sklearn/utils/validation.py:760: DataConversionWarning: A column-vector y was passed when a 1d array was expected. Please change the shape of y to (n_samples, ), for example using ravel().\n",
            "  y = column_or_1d(y, warn=True)\n"
          ],
          "name": "stderr"
        },
        {
          "output_type": "execute_result",
          "data": {
            "text/plain": [
              "0.8214285714285714"
            ]
          },
          "metadata": {
            "tags": []
          },
          "execution_count": 28
        }
      ]
    },
    {
      "cell_type": "markdown",
      "metadata": {
        "id": "xIoqmi5tarQC"
      },
      "source": [
        "----"
      ]
    },
    {
      "cell_type": "markdown",
      "metadata": {
        "id": "4J0gTaZrZoeK"
      },
      "source": [
        "#### Activity 6: Logistic Regression - Model Prediction and Evaluation\n",
        "\n",
        "Predict the values for both training and test sets by calling the `predict()` function on the Logistic Regression object.\n",
        "\n",
        "Also, compute the confusion matrix and classification report values to evaluate the accuracy of your model."
      ]
    },
    {
      "cell_type": "code",
      "metadata": {
        "id": "9JMQlyNOfDAq",
        "colab": {
          "base_uri": "https://localhost:8080/"
        },
        "outputId": "af31abbc-d597-43ca-8ca0-9c313547b176"
      },
      "source": [
        "# Make predictions on the test dataset by using the 'predict()' function.\n",
        "log_y_pred = log_reg.predict(X_test)\n",
        "log_y_pred"
      ],
      "execution_count": null,
      "outputs": [
        {
          "output_type": "execute_result",
          "data": {
            "text/plain": [
              "array([1, 1, 0, 1, 0, 0, 1, 0, 0, 0, 0, 1, 0, 0, 0, 0, 1, 1, 0, 1, 0, 0,\n",
              "       1, 1, 0, 1, 0, 0, 1, 0, 1, 0, 0, 0, 0, 0, 0, 0, 0, 0, 1, 0, 0, 1,\n",
              "       0, 1, 0, 0, 1, 0, 0, 1, 0, 0, 0, 0, 1, 0, 0, 0, 0, 0, 1, 0, 0, 0,\n",
              "       0, 1, 0, 0, 1, 0, 0, 0, 1, 0, 1, 1, 0, 0, 0, 1, 0, 1, 1, 0, 0, 1,\n",
              "       0, 0, 1, 0, 0, 0, 0, 0, 1, 0, 1, 0, 1, 0, 1, 0, 0, 0, 1, 0, 1, 0,\n",
              "       0, 0, 1, 1, 0, 0, 0, 0, 0, 0])"
            ]
          },
          "metadata": {
            "tags": []
          },
          "execution_count": 23
        }
      ]
    },
    {
      "cell_type": "code",
      "metadata": {
        "id": "r24aTqpxfnQH",
        "colab": {
          "base_uri": "https://localhost:8080/"
        },
        "outputId": "83335342-9617-4f9d-d8dd-f46156573763"
      },
      "source": [
        "# Display the results of confusion_matrix\n",
        "confusion_matrix(y_test, log_y_pred)"
      ],
      "execution_count": null,
      "outputs": [
        {
          "output_type": "execute_result",
          "data": {
            "text/plain": [
              "array([[70,  3],\n",
              "       [12, 35]])"
            ]
          },
          "metadata": {
            "tags": []
          },
          "execution_count": 24
        }
      ]
    },
    {
      "cell_type": "code",
      "metadata": {
        "id": "KO8P9HHCfnQN",
        "colab": {
          "base_uri": "https://localhost:8080/"
        },
        "outputId": "676c76be-aa6b-4c5a-df83-be2861accaa0"
      },
      "source": [
        "# Display the results of classification_report\n",
        "print(classification_report(y_test, log_y_pred))"
      ],
      "execution_count": null,
      "outputs": [
        {
          "output_type": "stream",
          "text": [
            "              precision    recall  f1-score   support\n",
            "\n",
            "           0       0.85      0.96      0.90        73\n",
            "           1       0.92      0.74      0.82        47\n",
            "\n",
            "    accuracy                           0.88       120\n",
            "   macro avg       0.89      0.85      0.86       120\n",
            "weighted avg       0.88      0.88      0.87       120\n",
            "\n"
          ],
          "name": "stdout"
        }
      ]
    },
    {
      "cell_type": "markdown",
      "metadata": {
        "id": "pjyDMPuaaDYy"
      },
      "source": [
        "**Q** Write the count of f1-score of both labels?\n",
        "\n",
        "**A:** 1. Label `0`  : 0.90\n",
        "2. Label `1`  : 0.82"
      ]
    },
    {
      "cell_type": "markdown",
      "metadata": {
        "id": "G-iaOImYbQPn"
      },
      "source": [
        "-----"
      ]
    },
    {
      "cell_type": "markdown",
      "metadata": {
        "id": "hASrZQs2bSPw"
      },
      "source": [
        "#### Activity 7: Comparision and Conclusion\n",
        "\n",
        "Test both the models to predict labels using same random values of `Age` attribute."
      ]
    },
    {
      "cell_type": "code",
      "metadata": {
        "colab": {
          "base_uri": "https://localhost:8080/"
        },
        "id": "B97SLEbh8yP5",
        "outputId": "a995508d-7cbb-4e3c-ffab-67a58c31c6df"
      },
      "source": [
        "# Predict labels with same random values from dataset\n",
        "\n",
        "# Using Random Forest Classifier\n",
        "print(\"Random Forest Classification\")\n",
        "print(\"----------------------------\")\n",
        "print(f\"Prediction of Random Forest Classification with age = 18: {rf_clf.predict(np.array(18).reshape(-1, 1))}\")\n",
        "print(f\"Prediction of Random Forest Classification with age = 60: {rf_clf.predict(np.array(47).reshape(-1, 1))}\\n\")\n",
        "\n",
        "# Using Logistic Regression\n",
        "print(\"Logistic Regression Classification\")\n",
        "print(\"----------------------------------\")\n",
        "print(f\"Prediction of Logistic Regression Classification with age = 18: {log_reg.predict(np.array(18).reshape(-1, 1))}\")\n",
        "print(f\"Prediction of Logistic Regression Classification with age = 60: {log_reg.predict(np.array(47).reshape(-1, 1))}\")"
      ],
      "execution_count": null,
      "outputs": [
        {
          "output_type": "stream",
          "text": [
            "Random Forest Classification\n",
            "----------------------------\n",
            "Prediction of Random Forest Classification with age = 18: [0]\n",
            "Prediction of Random Forest Classification with age = 60: [1]\n",
            "\n",
            "Logistic Regression Classification\n",
            "----------------------------------\n",
            "Prediction of Logistic Regression Classification with age = 18: [0]\n",
            "Prediction of Logistic Regression Classification with age = 60: [1]\n"
          ],
          "name": "stdout"
        }
      ]
    },
    {
      "cell_type": "markdown",
      "metadata": {
        "id": "Iv5oofuelp3C"
      },
      "source": [
        "**Q** Which model is better and why?\n",
        "\n",
        "**A:** Both the models are good because both have f1-score > 0.75 and prediction results are also similar but based on f1-score Logistic Regression is a slightly better model."
      ]
    },
    {
      "cell_type": "markdown",
      "metadata": {
        "id": "RcuEHS3WmTu7"
      },
      "source": [
        "------"
      ]
    }
  ]
}