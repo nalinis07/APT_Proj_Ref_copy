{
  "nbformat": 4,
  "nbformat_minor": 0,
  "metadata": {
    "colab": {
      "provenance": [],
      "include_colab_link": true
    },
    "kernelspec": {
      "name": "python3",
      "display_name": "Python 3"
    }
  },
  "cells": [
    {
      "cell_type": "markdown",
      "metadata": {
        "id": "view-in-github",
        "colab_type": "text"
      },
      "source": [
        "<a href=\"https://colab.research.google.com/github/nalinis07/APT_Proj_Ref_copy/blob/MASTER/AT_Lesson_66_Project_Solution_Copy.ipynb\" target=\"_parent\"><img src=\"https://colab.research.google.com/assets/colab-badge.svg\" alt=\"Open In Colab\"/></a>"
      ]
    },
    {
      "cell_type": "markdown",
      "metadata": {
        "id": "aQIDTCSIwTP3"
      },
      "source": [
        "### Instructions"
      ]
    },
    {
      "cell_type": "markdown",
      "metadata": {
        "id": "F_IP6BNb3Ne1"
      },
      "source": [
        "---"
      ]
    },
    {
      "cell_type": "markdown",
      "metadata": {
        "id": "azReToS7wWX3"
      },
      "source": [
        "#### Goal of the Project\n",
        "\n",
        "This project is designed for you to practice and solve the activities that are based on the concepts covered in the following lessons:\n",
        "\n",
        " 1. Multiple linear regression - Introduction\n",
        " 2. Multicollinearity\n",
        " 3. Variance Inflation Factor\n",
        "\n",
        ""
      ]
    },
    {
      "cell_type": "markdown",
      "metadata": {
        "id": "llwKuOyIwnA_"
      },
      "source": [
        "---"
      ]
    },
    {
      "cell_type": "markdown",
      "metadata": {
        "id": "fR_SN7K6475D"
      },
      "source": [
        "### Problem Statement\n",
        "\n",
        "Implement multiple linear regression to create a predictive model capable of predicting the Body Mass Index using the Height, Weight and Gender of a person. The dataset contains data about 500 instances. Find out if there is multicollinearity in the dataset using Variance Inflation Factor.\n",
        "\n",
        "\n",
        "\n",
        "\n"
      ]
    },
    {
      "cell_type": "markdown",
      "metadata": {
        "id": "lN1iCMJ4Oy1N"
      },
      "source": [
        "---"
      ]
    },
    {
      "cell_type": "markdown",
      "metadata": {
        "id": "L3zN-iv-wpjm"
      },
      "source": [
        "### List of Activities\n",
        "\n",
        "**Activity 1:** Analysing the Dataset\n",
        "\n",
        "**Activity 2:** Data Manipulation\n",
        "\n",
        "**Activity 3:** Train-Test Split\n",
        "\n",
        "**Activity 4:** Model Training using `statsmodels.api`\n",
        "\n",
        "**Activity 5:** Calculate VIF using `variance_inflation_factor`\n",
        "\n",
        "**Activity 6:** Calculate VIF using formula\n",
        "\n"
      ]
    },
    {
      "cell_type": "markdown",
      "metadata": {
        "id": "jLudEnlPO0FF"
      },
      "source": [
        "---"
      ]
    },
    {
      "cell_type": "markdown",
      "metadata": {
        "id": "lZt4yKiJwrUs"
      },
      "source": [
        "\n",
        "#### Activity 1:  Analysing the Dataset\n",
        "\n",
        "- Create a Pandas DataFrame for **500_Person_Gender_Height_Weight_Index** dataset using the below link. This dataset consists of following columns:\n",
        "\n",
        "|Columns|Description|\n",
        "|--|--|\n",
        "|Gender|Male/Female|\n",
        "|Height|Height in cm|\n",
        "|Weight|Weight in kg|\n",
        "|Index|Body Mass Index. Values: 0 - Extremely Weak, 1 - Weak, 2 - Normal\n",
        "||3 - Overweight, 4 - Obesity, 5 - Extreme Obesity|\n",
        "\n",
        "\n",
        "\n",
        "   **Dataset Link:**  https://student-datasets-bucket.s3.ap-south-1.amazonaws.com/whitehat-ds-datasets/Gender_Height_Weight_Index.csv\n",
        "\n",
        "- Print the first five rows of the dataset. Check for null values and treat them accordingly."
      ]
    },
    {
      "cell_type": "code",
      "metadata": {
        "id": "6U6NaAy4WQgs",
        "outputId": "a8016624-5179-4f05-c2a5-7a6d9558d1e9",
        "colab": {
          "base_uri": "https://localhost:8080/",
          "height": 204
        }
      },
      "source": [
        "# Import modules\n",
        "import numpy as np\n",
        "import pandas as pd\n",
        "import matplotlib.pyplot as plt\n",
        "import seaborn as sns\n",
        "# Load the dataset\n",
        "df=pd.read_csv('https://student-datasets-bucket.s3.ap-south-1.amazonaws.com/whitehat-ds-datasets/Gender_Height_Weight_Index.csv')\n",
        "# Print first five rows using head() function\n",
        "df.head()"
      ],
      "execution_count": null,
      "outputs": [
        {
          "output_type": "execute_result",
          "data": {
            "text/html": [
              "<div>\n",
              "<style scoped>\n",
              "    .dataframe tbody tr th:only-of-type {\n",
              "        vertical-align: middle;\n",
              "    }\n",
              "\n",
              "    .dataframe tbody tr th {\n",
              "        vertical-align: top;\n",
              "    }\n",
              "\n",
              "    .dataframe thead th {\n",
              "        text-align: right;\n",
              "    }\n",
              "</style>\n",
              "<table border=\"1\" class=\"dataframe\">\n",
              "  <thead>\n",
              "    <tr style=\"text-align: right;\">\n",
              "      <th></th>\n",
              "      <th>Gender</th>\n",
              "      <th>Height</th>\n",
              "      <th>Weight</th>\n",
              "      <th>Index</th>\n",
              "    </tr>\n",
              "  </thead>\n",
              "  <tbody>\n",
              "    <tr>\n",
              "      <th>0</th>\n",
              "      <td>Male</td>\n",
              "      <td>174</td>\n",
              "      <td>96</td>\n",
              "      <td>4</td>\n",
              "    </tr>\n",
              "    <tr>\n",
              "      <th>1</th>\n",
              "      <td>Male</td>\n",
              "      <td>189</td>\n",
              "      <td>87</td>\n",
              "      <td>2</td>\n",
              "    </tr>\n",
              "    <tr>\n",
              "      <th>2</th>\n",
              "      <td>Female</td>\n",
              "      <td>185</td>\n",
              "      <td>110</td>\n",
              "      <td>4</td>\n",
              "    </tr>\n",
              "    <tr>\n",
              "      <th>3</th>\n",
              "      <td>Female</td>\n",
              "      <td>195</td>\n",
              "      <td>104</td>\n",
              "      <td>3</td>\n",
              "    </tr>\n",
              "    <tr>\n",
              "      <th>4</th>\n",
              "      <td>Male</td>\n",
              "      <td>149</td>\n",
              "      <td>61</td>\n",
              "      <td>3</td>\n",
              "    </tr>\n",
              "  </tbody>\n",
              "</table>\n",
              "</div>"
            ],
            "text/plain": [
              "   Gender  Height  Weight  Index\n",
              "0    Male     174      96      4\n",
              "1    Male     189      87      2\n",
              "2  Female     185     110      4\n",
              "3  Female     195     104      3\n",
              "4    Male     149      61      3"
            ]
          },
          "metadata": {
            "tags": []
          },
          "execution_count": 66
        }
      ]
    },
    {
      "cell_type": "code",
      "metadata": {
        "id": "jg7hAMJ4jKC5",
        "outputId": "c58cae22-d688-4ccc-c1f0-a4c455c864da",
        "colab": {
          "base_uri": "https://localhost:8080/",
          "height": 102
        }
      },
      "source": [
        "# Check if there are any null values. If any column has null values, treat them accordingly\n",
        "df.isnull().sum()"
      ],
      "execution_count": null,
      "outputs": [
        {
          "output_type": "execute_result",
          "data": {
            "text/plain": [
              "Gender    0\n",
              "Height    0\n",
              "Weight    0\n",
              "Index     0\n",
              "dtype: int64"
            ]
          },
          "metadata": {
            "tags": []
          },
          "execution_count": 67
        }
      ]
    },
    {
      "cell_type": "markdown",
      "metadata": {
        "id": "T2b18ifmveiZ"
      },
      "source": [
        "---"
      ]
    },
    {
      "cell_type": "markdown",
      "metadata": {
        "id": "AfaJH332Vef7"
      },
      "source": [
        "#### Activity 2: Data Manipulation\n",
        "\n",
        "The dataset contains a column `Gender` that is categorical. However for linear regression, we need all numerical variables. So to convert the categorical data to a numerical data, use `get_dummies()` function of the `pandas` module. This function converts the categorical variable into dummy variables.\n",
        "\n",
        "**Syntax:** `pd.get_dummies(data)`\n",
        "\n"
      ]
    },
    {
      "cell_type": "code",
      "metadata": {
        "id": "70-DsDv5YAS3"
      },
      "source": [
        "# Get dummy values for the 'Gender' column\n",
        "df['Gender'] = pd.get_dummies(df['Gender'])"
      ],
      "execution_count": null,
      "outputs": []
    },
    {
      "cell_type": "code",
      "metadata": {
        "id": "YOPk_JvAYd3h",
        "outputId": "bf0689b9-a880-4b38-d996-0463ac8b7ce7",
        "colab": {
          "base_uri": "https://localhost:8080/",
          "height": 204
        }
      },
      "source": [
        "# Again print first five rows using head() function\n",
        "df.head()"
      ],
      "execution_count": null,
      "outputs": [
        {
          "output_type": "execute_result",
          "data": {
            "text/html": [
              "<div>\n",
              "<style scoped>\n",
              "    .dataframe tbody tr th:only-of-type {\n",
              "        vertical-align: middle;\n",
              "    }\n",
              "\n",
              "    .dataframe tbody tr th {\n",
              "        vertical-align: top;\n",
              "    }\n",
              "\n",
              "    .dataframe thead th {\n",
              "        text-align: right;\n",
              "    }\n",
              "</style>\n",
              "<table border=\"1\" class=\"dataframe\">\n",
              "  <thead>\n",
              "    <tr style=\"text-align: right;\">\n",
              "      <th></th>\n",
              "      <th>Gender</th>\n",
              "      <th>Height</th>\n",
              "      <th>Weight</th>\n",
              "      <th>Index</th>\n",
              "    </tr>\n",
              "  </thead>\n",
              "  <tbody>\n",
              "    <tr>\n",
              "      <th>0</th>\n",
              "      <td>0</td>\n",
              "      <td>174</td>\n",
              "      <td>96</td>\n",
              "      <td>4</td>\n",
              "    </tr>\n",
              "    <tr>\n",
              "      <th>1</th>\n",
              "      <td>0</td>\n",
              "      <td>189</td>\n",
              "      <td>87</td>\n",
              "      <td>2</td>\n",
              "    </tr>\n",
              "    <tr>\n",
              "      <th>2</th>\n",
              "      <td>1</td>\n",
              "      <td>185</td>\n",
              "      <td>110</td>\n",
              "      <td>4</td>\n",
              "    </tr>\n",
              "    <tr>\n",
              "      <th>3</th>\n",
              "      <td>1</td>\n",
              "      <td>195</td>\n",
              "      <td>104</td>\n",
              "      <td>3</td>\n",
              "    </tr>\n",
              "    <tr>\n",
              "      <th>4</th>\n",
              "      <td>0</td>\n",
              "      <td>149</td>\n",
              "      <td>61</td>\n",
              "      <td>3</td>\n",
              "    </tr>\n",
              "  </tbody>\n",
              "</table>\n",
              "</div>"
            ],
            "text/plain": [
              "   Gender  Height  Weight  Index\n",
              "0       0     174      96      4\n",
              "1       0     189      87      2\n",
              "2       1     185     110      4\n",
              "3       1     195     104      3\n",
              "4       0     149      61      3"
            ]
          },
          "metadata": {
            "tags": []
          },
          "execution_count": 69
        }
      ]
    },
    {
      "cell_type": "markdown",
      "metadata": {
        "id": "5vik-X_npOl9"
      },
      "source": [
        "------"
      ]
    },
    {
      "cell_type": "markdown",
      "metadata": {
        "id": "uDTmlU-Mz0fI"
      },
      "source": [
        "#### Activity 3: Train-Test Split\n",
        "\n",
        "We need to predict the value of `Index` variable, using other variables. Thus, `Index` is the target or dependent variable and other columns except `Index` are the features or the independent variables.\n",
        "\n",
        "Split the dataset into training set and test set such that the training set contains 70% of the instances and the remaining instances will become the test set."
      ]
    },
    {
      "cell_type": "code",
      "metadata": {
        "id": "Ku_loAWZ0LXr"
      },
      "source": [
        "# Split the DataFrame into the training and test sets.\n",
        "from sklearn.model_selection import train_test_split\n",
        "\n",
        "X=df.drop('Index',axis=1)#feature variables\n",
        "y=df['Index']# target variable\n",
        "\n",
        "X_train, X_test, y_train, y_test = train_test_split(X, y, test_size = 0.30, random_state = 42)"
      ],
      "execution_count": null,
      "outputs": []
    },
    {
      "cell_type": "markdown",
      "metadata": {
        "id": "hCPg7ClP0Om1"
      },
      "source": [
        "---"
      ]
    },
    {
      "cell_type": "markdown",
      "metadata": {
        "id": "Z6RkwNpUZ70Z"
      },
      "source": [
        "#### Activity 4: Model Training using `statsmodels.api`\n",
        "\n",
        "Perform the following tasks:\n",
        "- Implement multiple linear regression using `statsmodels.api` module and find the values of all the regression coefficients using this module.\n",
        "-Print the statistical summary of the regression model.\n"
      ]
    },
    {
      "cell_type": "code",
      "metadata": {
        "id": "nVsOvcydR204",
        "outputId": "46b943b3-a8c2-4ff9-eef3-2daeb7fb52f3",
        "colab": {
          "base_uri": "https://localhost:8080/",
          "height": 102
        }
      },
      "source": [
        "# Build a linear regression model using the 'statsmodels.api' module.\n",
        "import statsmodels.api as sm\n",
        "\n",
        "# Add a constant to feature variables\n",
        "X_train_sm = sm.add_constant(X_train)\n",
        "\n",
        "# Fit the regression line using 'OLS'\n",
        "stats_lr = sm.OLS(y_train, X_train_sm).fit()\n",
        "\n",
        "# Print the parameters, i.e. the intercept and the slope of the regression line fitted\n",
        "stats_lr.params"
      ],
      "execution_count": null,
      "outputs": [
        {
          "output_type": "execute_result",
          "data": {
            "text/plain": [
              "const     6.447978\n",
              "Gender   -0.013118\n",
              "Height   -0.037427\n",
              "Weight    0.034593\n",
              "dtype: float64"
            ]
          },
          "metadata": {
            "tags": []
          },
          "execution_count": 71
        }
      ]
    },
    {
      "cell_type": "code",
      "metadata": {
        "id": "j0PX_kHkSF0f",
        "outputId": "72dea3a9-3d92-410a-b324-d06784d1f9a2",
        "colab": {
          "base_uri": "https://localhost:8080/",
          "height": 510
        }
      },
      "source": [
        "# Print statistical summary of the model\n",
        "print(stats_lr.summary())"
      ],
      "execution_count": null,
      "outputs": [
        {
          "output_type": "stream",
          "text": [
            "                            OLS Regression Results                            \n",
            "==============================================================================\n",
            "Dep. Variable:                  Index   R-squared:                       0.842\n",
            "Model:                            OLS   Adj. R-squared:                  0.840\n",
            "Method:                 Least Squares   F-statistic:                     613.9\n",
            "Date:                Fri, 23 Oct 2020   Prob (F-statistic):          3.78e-138\n",
            "Time:                        14:37:29   Log-Likelihood:                -289.64\n",
            "No. Observations:                 350   AIC:                             587.3\n",
            "Df Residuals:                     346   BIC:                             602.7\n",
            "Df Model:                           3                                         \n",
            "Covariance Type:            nonrobust                                         \n",
            "==============================================================================\n",
            "                 coef    std err          t      P>|t|      [0.025      0.975]\n",
            "------------------------------------------------------------------------------\n",
            "const          6.4480      0.320     20.131      0.000       5.818       7.078\n",
            "Gender        -0.0131      0.060     -0.220      0.826      -0.130       0.104\n",
            "Height        -0.0374      0.002    -20.846      0.000      -0.041      -0.034\n",
            "Weight         0.0346      0.001     38.026      0.000       0.033       0.036\n",
            "==============================================================================\n",
            "Omnibus:                       20.611   Durbin-Watson:                   1.972\n",
            "Prob(Omnibus):                  0.000   Jarque-Bera (JB):               22.542\n",
            "Skew:                          -0.601   Prob(JB):                     1.27e-05\n",
            "Kurtosis:                       3.319   Cond. No.                     2.18e+03\n",
            "==============================================================================\n",
            "\n",
            "Warnings:\n",
            "[1] Standard Errors assume that the covariance matrix of the errors is correctly specified.\n",
            "[2] The condition number is large, 2.18e+03. This might indicate that there are\n",
            "strong multicollinearity or other numerical problems.\n"
          ],
          "name": "stdout"
        }
      ]
    },
    {
      "cell_type": "markdown",
      "metadata": {
        "id": "Lp-a0Ug2buWu"
      },
      "source": [
        "**Q:** What is the $R^2$ (R-squared) value for this model?\n",
        "\n",
        "**A:** 84.2%\n"
      ]
    },
    {
      "cell_type": "markdown",
      "metadata": {
        "id": "BPs56jXYoyEF"
      },
      "source": [
        "-----"
      ]
    },
    {
      "cell_type": "markdown",
      "metadata": {
        "id": "2Frkh1j2UHBi"
      },
      "source": [
        "#### Activity 5: Calculate VIF using `variance_inflation_factor`\n",
        "\n",
        "Calculate the VIF values for each independent variables using the `variance_inflation_factor` function of the `statsmodels.stats.outliers_influence` module.\n"
      ]
    },
    {
      "cell_type": "code",
      "metadata": {
        "id": "BN2VdS-TCSBz",
        "outputId": "9fbbe472-f35c-49ab-ea05-02fb0fa7d3fd",
        "colab": {
          "base_uri": "https://localhost:8080/",
          "height": 173
        }
      },
      "source": [
        "# Calculate the VIF values for 'Gender','Height', 'Weight' independent variables using the 'variance_inflation_factor' function.\n",
        "from statsmodels.stats.outliers_influence import variance_inflation_factor\n",
        "\n",
        "# Create a dataframe that will contain the names of all the feature variables and their respective VIFs\n",
        "vif = pd.DataFrame()\n",
        "vif['Features'] = X_train_sm.columns\n",
        "vif['VIF'] = [variance_inflation_factor(X_train_sm.values, i) for i in range(X_train_sm.values.shape[1])]\n",
        "vif['VIF'] = round(vif['VIF'], 2)\n",
        "vif = vif.sort_values(by = \"VIF\", ascending = False)\n",
        "vif"
      ],
      "execution_count": null,
      "outputs": [
        {
          "output_type": "execute_result",
          "data": {
            "text/html": [
              "<div>\n",
              "<style scoped>\n",
              "    .dataframe tbody tr th:only-of-type {\n",
              "        vertical-align: middle;\n",
              "    }\n",
              "\n",
              "    .dataframe tbody tr th {\n",
              "        vertical-align: top;\n",
              "    }\n",
              "\n",
              "    .dataframe thead th {\n",
              "        text-align: right;\n",
              "    }\n",
              "</style>\n",
              "<table border=\"1\" class=\"dataframe\">\n",
              "  <thead>\n",
              "    <tr style=\"text-align: right;\">\n",
              "      <th></th>\n",
              "      <th>Features</th>\n",
              "      <th>VIF</th>\n",
              "    </tr>\n",
              "  </thead>\n",
              "  <tbody>\n",
              "    <tr>\n",
              "      <th>0</th>\n",
              "      <td>const</td>\n",
              "      <td>115.84</td>\n",
              "    </tr>\n",
              "    <tr>\n",
              "      <th>1</th>\n",
              "      <td>Gender</td>\n",
              "      <td>1.00</td>\n",
              "    </tr>\n",
              "    <tr>\n",
              "      <th>2</th>\n",
              "      <td>Height</td>\n",
              "      <td>1.00</td>\n",
              "    </tr>\n",
              "    <tr>\n",
              "      <th>3</th>\n",
              "      <td>Weight</td>\n",
              "      <td>1.00</td>\n",
              "    </tr>\n",
              "  </tbody>\n",
              "</table>\n",
              "</div>"
            ],
            "text/plain": [
              "  Features     VIF\n",
              "0    const  115.84\n",
              "1   Gender    1.00\n",
              "2   Height    1.00\n",
              "3   Weight    1.00"
            ]
          },
          "metadata": {
            "tags": []
          },
          "execution_count": 73
        }
      ]
    },
    {
      "cell_type": "markdown",
      "metadata": {
        "id": "vB1oA8g3kSkJ"
      },
      "source": [
        "-------"
      ]
    },
    {
      "cell_type": "markdown",
      "metadata": {
        "id": "ufHD7brjY0wQ"
      },
      "source": [
        "#### Activity 6: Calculate VIF using formula\n",
        "\n",
        "Calculate the VIF values for each independent variables using the  $\\frac{1}{1 - R^2}$  formula. For this, perform the following task:\n",
        "\n",
        "- Build a linear regression model again taking `Weight` as the dependent variable and `Height` and `Gender` as the independent variables. Then calculate the $R^2$ value for this model.\n",
        "\n",
        "- Calculate the VIF values using the $\\frac{1}{1 - R^2}$ formula.\n"
      ]
    },
    {
      "cell_type": "code",
      "metadata": {
        "id": "zeKjxcpUZLdY",
        "outputId": "b93f9a81-aae6-4e08-eb10-7ce7f29f520b",
        "colab": {
          "base_uri": "https://localhost:8080/",
          "height": 493
        }
      },
      "source": [
        "# Build a linear regression model taking 'Weight' as the target and 'Height' and 'Gender' as the independent variables.\n",
        "w_X_train = X_train[['Height', 'Gender']]\n",
        "w_y_train = X_train['Weight']\n",
        "\n",
        "w_X_train_sm = sm.add_constant(w_X_train)\n",
        "w_lin_reg = sm.OLS(w_y_train, w_X_train_sm).fit()\n",
        "\n",
        "print(w_lin_reg.summary())"
      ],
      "execution_count": null,
      "outputs": [
        {
          "output_type": "stream",
          "text": [
            "                            OLS Regression Results                            \n",
            "==============================================================================\n",
            "Dep. Variable:                 Weight   R-squared:                       0.001\n",
            "Model:                            OLS   Adj. R-squared:                 -0.004\n",
            "Method:                 Least Squares   F-statistic:                    0.2499\n",
            "Date:                Fri, 23 Oct 2020   Prob (F-statistic):              0.779\n",
            "Time:                        14:37:29   Log-Likelihood:                -1717.3\n",
            "No. Observations:                 350   AIC:                             3441.\n",
            "Df Residuals:                     347   BIC:                             3452.\n",
            "Df Model:                           2                                         \n",
            "Covariance Type:            nonrobust                                         \n",
            "==============================================================================\n",
            "                 coef    std err          t      P>|t|      [0.025      0.975]\n",
            "------------------------------------------------------------------------------\n",
            "const         97.3884     18.163      5.362      0.000      61.665     133.112\n",
            "Height         0.0561      0.106      0.530      0.597      -0.152       0.264\n",
            "Gender        -1.7347      3.517     -0.493      0.622      -8.653       5.183\n",
            "==============================================================================\n",
            "Omnibus:                      206.677   Durbin-Watson:                   1.801\n",
            "Prob(Omnibus):                  0.000   Jarque-Bera (JB):               21.328\n",
            "Skew:                          -0.048   Prob(JB):                     2.34e-05\n",
            "Kurtosis:                       1.794   Cond. No.                     1.77e+03\n",
            "==============================================================================\n",
            "\n",
            "Warnings:\n",
            "[1] Standard Errors assume that the covariance matrix of the errors is correctly specified.\n",
            "[2] The condition number is large, 1.77e+03. This might indicate that there are\n",
            "strong multicollinearity or other numerical problems.\n"
          ],
          "name": "stdout"
        }
      ]
    },
    {
      "cell_type": "code",
      "metadata": {
        "id": "fM7I0CBcPXjE",
        "outputId": "9c144727-289e-4324-f7ff-704591ee7ada",
        "colab": {
          "base_uri": "https://localhost:8080/",
          "height": 34
        }
      },
      "source": [
        "# Calculate the VIF value for Weight.\n",
        "\n",
        "weight_vif = 1 / (1 - 0.001)\n",
        "weight_vif"
      ],
      "execution_count": null,
      "outputs": [
        {
          "output_type": "execute_result",
          "data": {
            "text/plain": [
              "1.001001001001001"
            ]
          },
          "metadata": {
            "tags": []
          },
          "execution_count": 75
        }
      ]
    },
    {
      "cell_type": "markdown",
      "metadata": {
        "id": "oLAhcuhulaSJ"
      },
      "source": [
        "Repeat the same for `Height` as dependent variable."
      ]
    },
    {
      "cell_type": "code",
      "metadata": {
        "id": "L6DLchljld__",
        "outputId": "67b2c82e-38cd-4d56-a5aa-ebe3cb21cef8",
        "colab": {
          "base_uri": "https://localhost:8080/",
          "height": 459
        }
      },
      "source": [
        "# Build a linear regression model taking 'Height' as the target and 'Weight' and 'Gender' as the independent variables.\n",
        "height_X_train = X_train[['Weight','Gender']]\n",
        "height_y_train = X_train['Height']\n",
        "\n",
        "height_X_train_sm = sm.add_constant(height_X_train)\n",
        "height_lin_reg = sm.OLS(height_y_train, height_X_train_sm).fit()\n",
        "\n",
        "print(height_lin_reg.summary())"
      ],
      "execution_count": null,
      "outputs": [
        {
          "output_type": "stream",
          "text": [
            "                            OLS Regression Results                            \n",
            "==============================================================================\n",
            "Dep. Variable:                 Height   R-squared:                       0.003\n",
            "Model:                            OLS   Adj. R-squared:                 -0.003\n",
            "Method:                 Least Squares   F-statistic:                    0.5493\n",
            "Date:                Fri, 23 Oct 2020   Prob (F-statistic):              0.578\n",
            "Time:                        14:37:30   Log-Likelihood:                -1479.4\n",
            "No. Observations:                 350   AIC:                             2965.\n",
            "Df Residuals:                     347   BIC:                             2976.\n",
            "Df Model:                           2                                         \n",
            "Covariance Type:            nonrobust                                         \n",
            "==============================================================================\n",
            "                 coef    std err          t      P>|t|      [0.025      0.975]\n",
            "------------------------------------------------------------------------------\n",
            "const        168.3137      3.174     53.036      0.000     162.072     174.556\n",
            "Weight         0.0144      0.027      0.530      0.597      -0.039       0.068\n",
            "Gender         1.6336      1.781      0.917      0.360      -1.869       5.136\n",
            "==============================================================================\n",
            "Omnibus:                      132.793   Durbin-Watson:                   2.054\n",
            "Prob(Omnibus):                  0.000   Jarque-Bera (JB):               20.123\n",
            "Skew:                          -0.158   Prob(JB):                     4.27e-05\n",
            "Kurtosis:                       1.869   Cond. No.                         404.\n",
            "==============================================================================\n",
            "\n",
            "Warnings:\n",
            "[1] Standard Errors assume that the covariance matrix of the errors is correctly specified.\n"
          ],
          "name": "stdout"
        }
      ]
    },
    {
      "cell_type": "code",
      "metadata": {
        "id": "uyqzu4x0leAJ",
        "outputId": "16e3580c-ec02-4914-e381-63fd4b9e32b4",
        "colab": {
          "base_uri": "https://localhost:8080/",
          "height": 34
        }
      },
      "source": [
        "# Calculate the VIF value for Height.\n",
        "\n",
        "height_vif = 1 / (1 - 0.003)\n",
        "height_vif"
      ],
      "execution_count": null,
      "outputs": [
        {
          "output_type": "execute_result",
          "data": {
            "text/plain": [
              "1.0030090270812437"
            ]
          },
          "metadata": {
            "tags": []
          },
          "execution_count": 77
        }
      ]
    },
    {
      "cell_type": "markdown",
      "metadata": {
        "id": "GLem1jU-nXW2"
      },
      "source": [
        "Build the same for `Gender` as dependent variable."
      ]
    },
    {
      "cell_type": "code",
      "metadata": {
        "id": "vsAQfP8RnVu4",
        "outputId": "b1efa985-e813-428d-bd47-d819172ba455",
        "colab": {
          "base_uri": "https://localhost:8080/",
          "height": 493
        }
      },
      "source": [
        "# Build a linear regression model taking 'Gender' as the target and 'Weight' and 'Height' as the independent variables.\n",
        "gen_X_train = X_train[['Weight','Height']]\n",
        "gen_y_train = X_train['Gender']\n",
        "\n",
        "gen_X_train_sm = sm.add_constant(gen_X_train)\n",
        "gen_lin_reg = sm.OLS(gen_y_train, gen_X_train_sm).fit()\n",
        "\n",
        "print(gen_lin_reg.summary())"
      ],
      "execution_count": null,
      "outputs": [
        {
          "output_type": "stream",
          "text": [
            "                            OLS Regression Results                            \n",
            "==============================================================================\n",
            "Dep. Variable:                 Gender   R-squared:                       0.003\n",
            "Model:                            OLS   Adj. R-squared:                 -0.003\n",
            "Method:                 Least Squares   F-statistic:                    0.5306\n",
            "Date:                Fri, 23 Oct 2020   Prob (F-statistic):              0.589\n",
            "Time:                        14:37:30   Log-Likelihood:                -253.40\n",
            "No. Observations:                 350   AIC:                             512.8\n",
            "Df Residuals:                     347   BIC:                             524.4\n",
            "Df Model:                           2                                         \n",
            "Covariance Type:            nonrobust                                         \n",
            "==============================================================================\n",
            "                 coef    std err          t      P>|t|      [0.025      0.975]\n",
            "------------------------------------------------------------------------------\n",
            "const          0.3015      0.288      1.047      0.296      -0.265       0.868\n",
            "Weight        -0.0004      0.001     -0.493      0.622      -0.002       0.001\n",
            "Height         0.0015      0.002      0.917      0.360      -0.002       0.005\n",
            "==============================================================================\n",
            "Omnibus:                     1582.464   Durbin-Watson:                   2.006\n",
            "Prob(Omnibus):                  0.000   Jarque-Bera (JB):               57.624\n",
            "Skew:                          -0.046   Prob(JB):                     3.07e-13\n",
            "Kurtosis:                       1.014   Cond. No.                     2.17e+03\n",
            "==============================================================================\n",
            "\n",
            "Warnings:\n",
            "[1] Standard Errors assume that the covariance matrix of the errors is correctly specified.\n",
            "[2] The condition number is large, 2.17e+03. This might indicate that there are\n",
            "strong multicollinearity or other numerical problems.\n"
          ],
          "name": "stdout"
        }
      ]
    },
    {
      "cell_type": "code",
      "metadata": {
        "id": "cnkZbPeLnVu_",
        "outputId": "d2e313e7-00ee-4503-8470-9573a5bc3829",
        "colab": {
          "base_uri": "https://localhost:8080/",
          "height": 34
        }
      },
      "source": [
        "# Calculate the VIF value for Weight.\n",
        "\n",
        "gender_vif = 1 / (1 - 0.003)\n",
        "gender_vif"
      ],
      "execution_count": null,
      "outputs": [
        {
          "output_type": "execute_result",
          "data": {
            "text/plain": [
              "1.0030090270812437"
            ]
          },
          "metadata": {
            "tags": []
          },
          "execution_count": 79
        }
      ]
    },
    {
      "cell_type": "markdown",
      "metadata": {
        "id": "yYuRWOQ4di1c"
      },
      "source": [
        "**Q:** Is the VIF calculated using formula $\\frac{1}{1 - R^2}$ and the python module `statsmodels.stats.outliers_influence` same for independent variables?\n",
        "\n",
        "**A:** Yes\n",
        "\n"
      ]
    },
    {
      "cell_type": "markdown",
      "metadata": {
        "id": "Bp0p4IT-Dn_w"
      },
      "source": [
        "---"
      ]
    }
  ]
}